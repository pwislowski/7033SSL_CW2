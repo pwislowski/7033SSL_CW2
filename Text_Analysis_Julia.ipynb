{
 "cells": [
  {
   "cell_type": "markdown",
   "id": "672332eb-3826-4912-8273-945fa3987343",
   "metadata": {},
   "source": [
    "# Libraries"
   ]
  },
  {
   "cell_type": "code",
   "execution_count": 1,
   "id": "63b1291c-63c8-47dd-ab10-c66821401f7e",
   "metadata": {},
   "outputs": [],
   "source": [
    "using DataFrames, CSV, Dates, TextAnalysis"
   ]
  },
  {
   "cell_type": "code",
   "execution_count": 2,
   "id": "f3e51832-362e-44bb-aa55-7e6575a9c728",
   "metadata": {},
   "outputs": [
    {
     "data": {
      "application/vnd.webio.node+json": {
       "children": [],
       "instanceArgs": {
        "namespace": "html",
        "tag": "div"
       },
       "nodeType": "DOM",
       "props": {},
       "type": "node"
      },
      "text/html": [
       "<div style=\"padding: 1em; background-color: #f8d6da; border: 1px solid #f5c6cb; font-weight: bold;\">\n",
       "<p>The WebIO Jupyter extension was not detected. See the\n",
       "<a href=\"https://juliagizmos.github.io/WebIO.jl/latest/providers/ijulia/\" target=\"_blank\">\n",
       "    WebIO Jupyter integration documentation\n",
       "</a>\n",
       "for more information.\n",
       "</div>\n"
      ],
      "text/plain": [
       "WebIO._IJuliaInit()"
      ]
     },
     "metadata": {
      "application/vnd.webio.node+json": {
       "kernelId": "c2155178-1f78-465b-8515-b96ccc9ae926"
      }
     },
     "output_type": "display_data"
    }
   ],
   "source": [
    "using PlotlyJS"
   ]
  },
  {
   "cell_type": "markdown",
   "id": "5ba6b4a5-7819-4ca6-8deb-2721d5fac790",
   "metadata": {},
   "source": [
    "# Data ImportTextAnalysis"
   ]
  },
  {
   "cell_type": "code",
   "execution_count": 3,
   "id": "312ca263-1b1e-4255-bff6-f3a15f6c7466",
   "metadata": {},
   "outputs": [
    {
     "data": {
      "text/html": [
       "<div class=\"data-frame\"><p>1,999 rows × 6 columns (omitted printing of 3 columns)</p><table class=\"data-frame\"><thead><tr><th></th><th>Date</th><th>Author</th><th>Body</th></tr><tr><th></th><th title=\"Date\">Date</th><th title=\"String63\">String63</th><th title=\"String\">String</th></tr></thead><tbody><tr><th>1</th><td>2020-07-06</td><td>Patricia Palmer</td><td>Think they need to contact people about all these cancelled holidays and  shocking treatment don&apos;t tell you anything don&apos;t answer the phones or email can&apos;t get refunds</td></tr><tr><th>2</th><td>2020-07-06</td><td>Andy Tims</td><td>Just atrocious lack of customer service. They send you emails and texts you can’t respond to and it’s just impossible to get through on the phone. \\nBeen on holiday with them several times but very much doubt I will again.</td></tr><tr><th>3</th><td>2020-07-06</td><td>Alexis</td><td>If I could do no stars I would.\\nHad email to say my holiday cant go ahead, but they wont cancel it so cant get a refund. Have spoken to many people on the phone after holding for an hour esh time only to be hung up on every time. \\nDONT TRUST THEM, they will keep hold of your money for as long as they can.</td></tr><tr><th>4</th><td>2020-07-06</td><td>Peter Kerr</td><td>Tui are totally useless, they are not connectable, they don&apos;t respond to emails, don&apos;t answer the phone. \\nSo regret booking a holiday with them!!!</td></tr><tr><th>5</th><td>2020-07-06</td><td>Charlene</td><td>Shocking customer service, not even a courtesy email to actually tell us our holiday on 14th May is cancelled, waited patiently for a call as requested on the website and still heard diddly squat, called to be told they had to contact the suppliers of the holiday, then told that emails had ‘gone missing’ however after talking to the suppliers myself they have already issued TUI with the refund, so TUI now have our 7500k and are technically with holding it. I was promised I would get it within 3 weeks of the last phone call, upon calling again they’ve changed it to 4... tomorrow is that 4 week deadline and I’m pretty sure I’m not going to blink and see it in my account! THEFT and money laundering springs to mind!!</td></tr><tr><th>6</th><td>2020-07-06</td><td>Wanda Rutczynska</td><td>This company is the biggest fraud I have come across, ever.\\n\\nStole my money and impossible to get it back \\n\\nAVOID AT ALL COSTS</td></tr><tr><th>7</th><td>2020-07-06</td><td>Rowenah Preger</td><td>I don’t think they even qualify for a 1 star. Told us holiday is cancelled and to rebook with £500 incentive - our whole family is going and we can’t because we cannot rebook with the £500 incentive offered. Our holiday hasn’t updated as cancelled on our booking and the numerous calls to TUI and being on hold for over 2 hours since last Friday has got us no where! Nobody can do anything apart from rebooking it at over a £1000 more! Just cancel our booking and rebook it over the phone !!! It’s over £3k terrible customer service !!! They just don’t want to help.</td></tr><tr><th>8</th><td>2020-07-06</td><td>JANINE MURRAY</td><td>TUI Dispicable!! \\nIve made numerous calls and finally got through (I think) at 6.45pm tonight, only to be put on hold until I gave up and hung up!! Probably some lazy piece of s*** who didnt want to deal with yet another irate customer!\\nThe website is not up to date. I want a full refund but it is offering me only 30%. Why would I be a fool and click on &apos;accept&apos; ??!!  This cannot be legal. I will  NEVER book again with Tui and I will make sure that I tell as many people on social media about there shocking service , or lack of!! Hope they go bust.</td></tr><tr><th>9</th><td>2020-07-06</td><td>Jenny Hancock</td><td>Bought my holiday in store September 2019 to Turkey August 2020. No way of getting through to customer services, on phone literally hours trying to get through for information about cancelling the holiday or even some advice if the holiday is even going ahead. Very poor they have not opened the stores. Will not be booking with them again.</td></tr><tr><th>10</th><td>2020-07-06</td><td>Jake Shaw</td><td>Was told on the phone I would have a refund of £995 plus my £126 insurance and I only got refunded £744 and they put this down to amendment fees with a holiday that I haven’t even been able to go on. Tui are a joke and I will never ever be booking a holiday with them again they have robbed me and everybody else around them Jet2holidays all the way for me because tui are just thieves Thanks for nothing I am still awaiting legal action and won’t let this matter drop untill I have my money back!!</td></tr><tr><th>11</th><td>2020-07-07</td><td>S denny</td><td>Cancelled my holiday with Tui as Greece still utilising quarantine. Billing cancellation clearly stated what the cancellation fee was and the balance to be refunded. Got the refund today and  300 short. Seriously this company are the worst I have experienced. No way to get through on their phones. They are literally making up the rules as they go along. Avoid this company at all costs</td></tr><tr><th>12</th><td>2020-07-07</td><td>lee Williams</td><td>My holiday got cancelled due to coronavirus and I received a call from a Tui rep asking me if I wanted a cash refund or voucher, I asked for a cash refund and received an email that very day confirming that I&apos;ll receive my refund within 4 weeks, this was April 21st, due to fly on May 3rd, great I thought.   The 4 weeks passed and received nothing, so I called Tui, got through and was told it&apos;s within 4 weeks of departure, not what I was told originally but thought I&apos;d wait as at this stage that was only just under 3 weeks away from that.  Waited and still received no refund so I messaged Tui via Facebook, I received a message back saying that my refund had been processed and was pending a bacs payment and that it will be in my account within 10 working days, this was over 1 month ago now.  I&apos;ve since tried calling on numerous occasions and the line goes dead anywhere between 1 hour and 1 and a half hours. Absolutely terrible the way willing customers have been treated.</td></tr><tr><th>13</th><td>2020-07-07</td><td>Kerry Morgan</td><td>So still waiting for a refund on our turkey holiday in may. \\n\\nFind this very disappointed from such a big company. \\nSeriously think we should also cancel our xmas break with them.\\n\\nThink their reputation is massively being damaged....\\n\\nFour weeks in waiting so far if it was a bank with a fiver overdrawn the charges would be massive.</td></tr><tr><th>14</th><td>2020-07-07</td><td>HD</td><td>I received an email two days after I had amended my booking to say my original holiday would not be going ahead. The email said I was entitled to a 10% incentive or I could cancel my holiday or get £500.  As Tui already had been paid in full I had to call to receive a cash refund. Quiet clear in black and white that was one of my options. The first call took an hour and a half to get through. I then spent an hour and a half hour on the phone to Daniel.  He couldn’t answer there an then so said he would call me back.  No call.\\nSo I try again to apply for my refund.  This time another hour and a half and got through to Bethan, who only wanted to hear herself speak. She told me I wasn&apos;t entitled to anything.  I tried, in between her talking to talk over me, that I had the email in black and white in front of me plus I’d read the terms and conditions and I should receive £500. I was told the terms and conditions didn’t apply to me.  Bethan, I said, it’s in the email Tui sent me.  Her words then were quite shocking. ‘I am giving you your first warning for talking to me too loudly’ is what she said. My response was, don’t patronise me.  I was then told I was on my second warning.  I’m 47 years old.  I’m a customer ringing up to get what I was offered in an email and I am being put on a series of warnings by a customer service agent who continually cut me off and talked over me whilst putting me on further warnings when I tried to speak.  I nearly cried when I finally put the phone down on her. I have never been chastised like a child for trying to get what had been offered to me.  Im still truly shocked I was spoken to this way and I still don’t understand why the email they sent me, doesn’t apply to me. I’ve been aTui customer for years. That one agent has lost Tui a very loyal customer. I shall now get off the naughty step I was put on.</td></tr><tr><th>15</th><td>2020-07-07</td><td>Tim Smith-Hoy</td><td>Only rated a 1 star as had to give a rating, the most appalling customer service, was speaking with a customer rep, hit 7pm line went dead, tried to call call back to have a recorded message of lines are open 9am to 7pm absolute no customer service.</td></tr><tr><th>16</th><td>2020-07-07</td><td>Nicola </td><td>I’ve just rang up to pay some money for my 2nd holiday in October the 1st holiday being in The middle of August to Turkey and was told all it says on the August booking is Operational Change but Tui didn’t confirm if this is cancelled or now does anyone know what Operational change stands for with Tui?\\n\\nThank you</td></tr><tr><th>17</th><td>2020-07-07</td><td>Mike M </td><td>Finally, I have received my money back for a cruise that was due to sail on 23 May but I knew was cancelled on 22 April - and I started my refund application then.  No help, support or communication from TUI, I had to invest a lot of my time and effort into finally confirming the cruise operator had refunded TUI mid May (I bought this cruise through a TUI shop).\\nI am fortunate to now, today, have my refund which I had to do via Chargeback on my credit card.\\nSo now to the scores:\\nABTA = 0 (Weak, inefectual and hiding behind the curtains - what are they really doing to support the customer at times like these??)\\nTUI = Minus 100 (I cannot, good manners stop me, tell you how disgusted I am with TUI and the shameful way it has conducted itself through this situation) \\nThose 5 Star Trustpilot Reviews - Oh how pathetic and an insult to people who are in despair at not being able to get support / advice / refunds from TUI.\\nI am fortunate, many are in really desperate situations and need resolution.  To those I say hang in there and I truly wish you receive your refunds as soon as possible.\\nTUI - I shall never use you again - I would rather pay double to book with another holiday company.\\nTUI management - you disgust me - I&apos;d like to think what goes around comes around and your pillars of sand come crashing down around you.\\nI&apos;m done !!</td></tr><tr><th>18</th><td>2020-07-07</td><td>A.S</td><td>Great service, during this difficult time they have been fantastic. Well done TUI</td></tr><tr><th>19</th><td>2020-07-07</td><td>RealityD</td><td>Don&apos;t try calling TUI for your refund: try your best to raise a dispute with your bank (if you paid by debit card) or initiate a chargeback (if you paid by credit card). Or try the small claims court (never done it myself, but it&apos;s supposed to be easy online).\\n\\nEven if you do get through to TUI on the phone, they just lie, lie, lie, lie, lie, lie, lie and lie to you. THEY DON&apos;T GIVE A  T_I_H_S backwards ABOUT YOU OR YOUR MONEY.</td></tr><tr><th>20</th><td>2020-07-07</td><td>Craig Beardsley</td><td>Ill never go on holiday with this company again. They have burned their bridges with me. Had 2 cruises booked one for this year and one next year. Both have been cancelled by tui, which is fine with covid going around. Whats not fine is the complete lack of communication on when will I get back all the thousands tui owes me. They dont answer there phones if u try to get through to the correct department to speak to a member of staff. In fact today when I phoned theres not even a ring tone it just says offices are now closed please ring back in opening times between 9.30 and 17.30. I phoned at 14.00? The only way ive found to be able to speak to anybody is to dial straight to sales as if ur booking a new holiday, amazingly they answer in one ring. They then lie to you repeatedly saying a credit note is on its way or that I&apos;ll get a email with options on refund or rebook in the next few days, its been 2 months and still nothing. This is all on top of poor holiday last year with tui at their holiday village Lanzorote.</td></tr><tr><th>21</th><td>2020-07-07</td><td>Emma Clement-Burford</td><td>I had my holiday booked for Montenegro in the middle of August. We only paid 30% deposit and was not forced into paying the final balance even though it was due. I had a phone call on Friday telling me my holiday has been cancelled and went through 3 options with me transfer to next year, balance or cash refund. Unfortunately my husband lost his job at the beginning of lockdown so we had no choice but a cash refund. The lady who I spoke to was lovely and fine with my decision she told me her manager would contact me to process the refund. I missed two calls from them on Friday and they called me a third time on Monday to process my refund. They processed my refund yesterday and it has gone into my account today. We are still waiting for another to refund a deposit from a holiday at the beginning of June and we weren’t even due to go on this one till August. Fantastic customer service and will rebook with them next year.</td></tr><tr><th>22</th><td>2020-07-07</td><td>Peter Short</td><td>ABSOLUTELY DISGUSTING!!!!!!\\nI have run my own business for 30 years and dealt with many types of business, good and bad but I can honestly say I have never dealt with such an appalling company in my entire life. My wife and I have spent several days on hold for hours at a time and not once been able to get through. \\nThe general public should absolutely boycott this company in future. \\nI understand that these are difficult times but the way this company is treating their customers is  absolutely repulsive.</td></tr><tr><th>23</th><td>2020-07-07</td><td>Debbie Atkinson</td><td>Booked to go to mexico 20th June this obviously got cancelled no emails from tui so rang 3rd june for refund was told 28 days this didn&apos;t happen rang again 3td July told them 7 more days or I&apos;ll start mcol got refund in full this morning will not be using tui again ever jet 2 every time for me now</td></tr><tr><th>24</th><td>2020-07-07</td><td>ANTHONY</td><td>Will never travel with this company again. They keep sending me e-mails telling me how to get in touch ,but have NEVER got an answer, no matter what time you phone or how long you hang on for. Disgraceful way to treat paying customers.</td></tr><tr><th>25</th><td>2020-07-07</td><td>Chris Gallon</td><td>I paid for a holiday in the Dominican Republic in full in December 2019. The holiday is planned for September 13th 2020. I had confirmation from the hotel at the beginning of June that the hotel will not be open at least November the first and that all Tui bookings had been cancelled until that date. Tui refuse to let me change the dates of the holiday without an admin fee and will not cancel my holiday even though they know they can not deliver it. Tui were also selling this holiday for 4 weeks after they knew about the closure and taking people&apos;s money off them.</td></tr><tr><th>26</th><td>2020-07-07</td><td>Jodie Bull</td><td>If I could give a 0 I would! Received an email a week ago advising they have cancelled our holiday. They have given several choices so I have chosen to claim back a cash refund. I have tried every day since with phone calls totalling about 5 hours, been given many different phone numbers to call and have still got nowhere! I have tried again today and after being in a queue for another 30 mins got cut off! Called back and now there are too many calls to even be put in a queue! Frustrated is not the word. I will never book with Tui again after this. I do not have time to spend so long in on the phone for noone to be able to actually help.</td></tr><tr><th>27</th><td>2020-07-07</td><td>Khye Waite </td><td>if i could give it less than 1 star i would.\\ni have had nothing but problems with TUI trying to change my holiday.  \\nFirstly the online service to change details doesn&apos;t work it try to amend details. \\nwhen i spoke on the phone it was £50 admin fee never said this changes after a time scale. next time i spoke it had gone to 600. Each time we have tried to change the holiday we have had one stumbling block after another. i am writing a letter of complaint and will not be booking with tui again</td></tr><tr><th>28</th><td>2020-07-07</td><td>Kenneth Clark</td><td>Now that covid has lessened , and travel has begun , why has tui stopped flights , from birmingham to Montego Bay.  They are operating from Manchester &amp; Gatwick , for the winter, but not Birmingham , forcing midlands passengers , to travel to Manchester or London,I am a Wheelchair passenger , and this makes it , even more difficult for me ,so come on tui , do the right thing and re-instate direct flights from Birmingham please.</td></tr><tr><th>29</th><td>2020-07-07</td><td>Claire &apos;Morgan&apos; Price</td><td>Still waiting for a refund from a family holiday to Florida that was cancelled in April 2020. Have contacted TUI every week, sometimes twice a week, only ever had one call back. We are owed nearly £12,000! Unable to book anything for 2021 as they have my money. So frustrated with their customer service.</td></tr><tr><th>30</th><td>2020-07-07</td><td>Mrs Wretham</td><td>i am trying to cancel my holiday for 14th sep this year ,please answer the phone .my husband astmatic so do not think its wise to go.i will never go though tui agian</td></tr><tr><th>&vellip;</th><td>&vellip;</td><td>&vellip;</td><td>&vellip;</td></tr></tbody></table></div>"
      ],
      "text/latex": [
       "\\begin{tabular}{r|cccc}\n",
       "\t& Date & Author & Body & \\\\\n",
       "\t\\hline\n",
       "\t& Date & String63 & String & \\\\\n",
       "\t\\hline\n",
       "\t1 & 2020-07-06 & Patricia Palmer & Think they need to contact people about all these cancelled holidays and  shocking treatment don't tell you anything don't answer the phones or email can't get refunds & $\\dots$ \\\\\n",
       "\t2 & 2020-07-06 & Andy Tims & Just atrocious lack of customer service. They send you emails and texts you can’t respond to and it’s just impossible to get through on the phone. \\textbackslash{}nBeen on holiday with them several times but very much doubt I will again. & $\\dots$ \\\\\n",
       "\t3 & 2020-07-06 & Alexis & If I could do no stars I would.\\textbackslash{}nHad email to say my holiday cant go ahead, but they wont cancel it so cant get a refund. Have spoken to many people on the phone after holding for an hour esh time only to be hung up on every time. \\textbackslash{}nDONT TRUST THEM, they will keep hold of your money for as long as they can. & $\\dots$ \\\\\n",
       "\t4 & 2020-07-06 & Peter Kerr & Tui are totally useless, they are not connectable, they don't respond to emails, don't answer the phone. \\textbackslash{}nSo regret booking a holiday with them!!! & $\\dots$ \\\\\n",
       "\t5 & 2020-07-06 & Charlene & Shocking customer service, not even a courtesy email to actually tell us our holiday on 14th May is cancelled, waited patiently for a call as requested on the website and still heard diddly squat, called to be told they had to contact the suppliers of the holiday, then told that emails had ‘gone missing’ however after talking to the suppliers myself they have already issued TUI with the refund, so TUI now have our 7500k and are technically with holding it. I was promised I would get it within 3 weeks of the last phone call, upon calling again they’ve changed it to 4... tomorrow is that 4 week deadline and I’m pretty sure I’m not going to blink and see it in my account! THEFT and money laundering springs to mind!! & $\\dots$ \\\\\n",
       "\t6 & 2020-07-06 & Wanda Rutczynska & This company is the biggest fraud I have come across, ever.\\textbackslash{}n\\textbackslash{}nStole my money and impossible to get it back \\textbackslash{}n\\textbackslash{}nAVOID AT ALL COSTS & $\\dots$ \\\\\n",
       "\t7 & 2020-07-06 & Rowenah Preger & I don’t think they even qualify for a 1 star. Told us holiday is cancelled and to rebook with £500 incentive - our whole family is going and we can’t because we cannot rebook with the £500 incentive offered. Our holiday hasn’t updated as cancelled on our booking and the numerous calls to TUI and being on hold for over 2 hours since last Friday has got us no where! Nobody can do anything apart from rebooking it at over a £1000 more! Just cancel our booking and rebook it over the phone !!! It’s over £3k terrible customer service !!! They just don’t want to help. & $\\dots$ \\\\\n",
       "\t8 & 2020-07-06 & JANINE MURRAY & TUI Dispicable!! \\textbackslash{}nIve made numerous calls and finally got through (I think) at 6.45pm tonight, only to be put on hold until I gave up and hung up!! Probably some lazy piece of s*** who didnt want to deal with yet another irate customer!\\textbackslash{}nThe website is not up to date. I want a full refund but it is offering me only 30\\%. Why would I be a fool and click on 'accept' ??!!  This cannot be legal. I will  NEVER book again with Tui and I will make sure that I tell as many people on social media about there shocking service , or lack of!! Hope they go bust. & $\\dots$ \\\\\n",
       "\t9 & 2020-07-06 & Jenny Hancock & Bought my holiday in store September 2019 to Turkey August 2020. No way of getting through to customer services, on phone literally hours trying to get through for information about cancelling the holiday or even some advice if the holiday is even going ahead. Very poor they have not opened the stores. Will not be booking with them again. & $\\dots$ \\\\\n",
       "\t10 & 2020-07-06 & Jake Shaw & Was told on the phone I would have a refund of £995 plus my £126 insurance and I only got refunded £744 and they put this down to amendment fees with a holiday that I haven’t even been able to go on. Tui are a joke and I will never ever be booking a holiday with them again they have robbed me and everybody else around them Jet2holidays all the way for me because tui are just thieves Thanks for nothing I am still awaiting legal action and won’t let this matter drop untill I have my money back!! & $\\dots$ \\\\\n",
       "\t11 & 2020-07-07 & S denny & Cancelled my holiday with Tui as Greece still utilising quarantine. Billing cancellation clearly stated what the cancellation fee was and the balance to be refunded. Got the refund today and  300 short. Seriously this company are the worst I have experienced. No way to get through on their phones. They are literally making up the rules as they go along. Avoid this company at all costs & $\\dots$ \\\\\n",
       "\t12 & 2020-07-07 & lee Williams & My holiday got cancelled due to coronavirus and I received a call from a Tui rep asking me if I wanted a cash refund or voucher, I asked for a cash refund and received an email that very day confirming that I'll receive my refund within 4 weeks, this was April 21st, due to fly on May 3rd, great I thought.   The 4 weeks passed and received nothing, so I called Tui, got through and was told it's within 4 weeks of departure, not what I was told originally but thought I'd wait as at this stage that was only just under 3 weeks away from that.  Waited and still received no refund so I messaged Tui via Facebook, I received a message back saying that my refund had been processed and was pending a bacs payment and that it will be in my account within 10 working days, this was over 1 month ago now.  I've since tried calling on numerous occasions and the line goes dead anywhere between 1 hour and 1 and a half hours. Absolutely terrible the way willing customers have been treated. & $\\dots$ \\\\\n",
       "\t13 & 2020-07-07 & Kerry Morgan & So still waiting for a refund on our turkey holiday in may. \\textbackslash{}n\\textbackslash{}nFind this very disappointed from such a big company. \\textbackslash{}nSeriously think we should also cancel our xmas break with them.\\textbackslash{}n\\textbackslash{}nThink their reputation is massively being damaged....\\textbackslash{}n\\textbackslash{}nFour weeks in waiting so far if it was a bank with a fiver overdrawn the charges would be massive. & $\\dots$ \\\\\n",
       "\t14 & 2020-07-07 & HD & I received an email two days after I had amended my booking to say my original holiday would not be going ahead. The email said I was entitled to a 10\\% incentive or I could cancel my holiday or get £500.  As Tui already had been paid in full I had to call to receive a cash refund. Quiet clear in black and white that was one of my options. The first call took an hour and a half to get through. I then spent an hour and a half hour on the phone to Daniel.  He couldn’t answer there an then so said he would call me back.  No call.\\textbackslash{}nSo I try again to apply for my refund.  This time another hour and a half and got through to Bethan, who only wanted to hear herself speak. She told me I wasn't entitled to anything.  I tried, in between her talking to talk over me, that I had the email in black and white in front of me plus I’d read the terms and conditions and I should receive £500. I was told the terms and conditions didn’t apply to me.  Bethan, I said, it’s in the email Tui sent me.  Her words then were quite shocking. ‘I am giving you your first warning for talking to me too loudly’ is what she said. My response was, don’t patronise me.  I was then told I was on my second warning.  I’m 47 years old.  I’m a customer ringing up to get what I was offered in an email and I am being put on a series of warnings by a customer service agent who continually cut me off and talked over me whilst putting me on further warnings when I tried to speak.  I nearly cried when I finally put the phone down on her. I have never been chastised like a child for trying to get what had been offered to me.  Im still truly shocked I was spoken to this way and I still don’t understand why the email they sent me, doesn’t apply to me. I’ve been aTui customer for years. That one agent has lost Tui a very loyal customer. I shall now get off the naughty step I was put on. & $\\dots$ \\\\\n",
       "\t15 & 2020-07-07 & Tim Smith-Hoy & Only rated a 1 star as had to give a rating, the most appalling customer service, was speaking with a customer rep, hit 7pm line went dead, tried to call call back to have a recorded message of lines are open 9am to 7pm absolute no customer service. & $\\dots$ \\\\\n",
       "\t16 & 2020-07-07 & Nicola  & I’ve just rang up to pay some money for my 2nd holiday in October the 1st holiday being in The middle of August to Turkey and was told all it says on the August booking is Operational Change but Tui didn’t confirm if this is cancelled or now does anyone know what Operational change stands for with Tui?\\textbackslash{}n\\textbackslash{}nThank you & $\\dots$ \\\\\n",
       "\t17 & 2020-07-07 & Mike M  & Finally, I have received my money back for a cruise that was due to sail on 23 May but I knew was cancelled on 22 April - and I started my refund application then.  No help, support or communication from TUI, I had to invest a lot of my time and effort into finally confirming the cruise operator had refunded TUI mid May (I bought this cruise through a TUI shop).\\textbackslash{}nI am fortunate to now, today, have my refund which I had to do via Chargeback on my credit card.\\textbackslash{}nSo now to the scores:\\textbackslash{}nABTA = 0 (Weak, inefectual and hiding behind the curtains - what are they really doing to support the customer at times like these??)\\textbackslash{}nTUI = Minus 100 (I cannot, good manners stop me, tell you how disgusted I am with TUI and the shameful way it has conducted itself through this situation) \\textbackslash{}nThose 5 Star Trustpilot Reviews - Oh how pathetic and an insult to people who are in despair at not being able to get support / advice / refunds from TUI.\\textbackslash{}nI am fortunate, many are in really desperate situations and need resolution.  To those I say hang in there and I truly wish you receive your refunds as soon as possible.\\textbackslash{}nTUI - I shall never use you again - I would rather pay double to book with another holiday company.\\textbackslash{}nTUI management - you disgust me - I'd like to think what goes around comes around and your pillars of sand come crashing down around you.\\textbackslash{}nI'm done !! & $\\dots$ \\\\\n",
       "\t18 & 2020-07-07 & A.S & Great service, during this difficult time they have been fantastic. Well done TUI & $\\dots$ \\\\\n",
       "\t19 & 2020-07-07 & RealityD & Don't try calling TUI for your refund: try your best to raise a dispute with your bank (if you paid by debit card) or initiate a chargeback (if you paid by credit card). Or try the small claims court (never done it myself, but it's supposed to be easy online).\\textbackslash{}n\\textbackslash{}nEven if you do get through to TUI on the phone, they just lie, lie, lie, lie, lie, lie, lie and lie to you. THEY DON'T GIVE A  T\\_I\\_H\\_S backwards ABOUT YOU OR YOUR MONEY. & $\\dots$ \\\\\n",
       "\t20 & 2020-07-07 & Craig Beardsley & Ill never go on holiday with this company again. They have burned their bridges with me. Had 2 cruises booked one for this year and one next year. Both have been cancelled by tui, which is fine with covid going around. Whats not fine is the complete lack of communication on when will I get back all the thousands tui owes me. They dont answer there phones if u try to get through to the correct department to speak to a member of staff. In fact today when I phoned theres not even a ring tone it just says offices are now closed please ring back in opening times between 9.30 and 17.30. I phoned at 14.00? The only way ive found to be able to speak to anybody is to dial straight to sales as if ur booking a new holiday, amazingly they answer in one ring. They then lie to you repeatedly saying a credit note is on its way or that I'll get a email with options on refund or rebook in the next few days, its been 2 months and still nothing. This is all on top of poor holiday last year with tui at their holiday village Lanzorote. & $\\dots$ \\\\\n",
       "\t21 & 2020-07-07 & Emma Clement-Burford & I had my holiday booked for Montenegro in the middle of August. We only paid 30\\% deposit and was not forced into paying the final balance even though it was due. I had a phone call on Friday telling me my holiday has been cancelled and went through 3 options with me transfer to next year, balance or cash refund. Unfortunately my husband lost his job at the beginning of lockdown so we had no choice but a cash refund. The lady who I spoke to was lovely and fine with my decision she told me her manager would contact me to process the refund. I missed two calls from them on Friday and they called me a third time on Monday to process my refund. They processed my refund yesterday and it has gone into my account today. We are still waiting for another to refund a deposit from a holiday at the beginning of June and we weren’t even due to go on this one till August. Fantastic customer service and will rebook with them next year. & $\\dots$ \\\\\n",
       "\t22 & 2020-07-07 & Peter Short & ABSOLUTELY DISGUSTING!!!!!!\\textbackslash{}nI have run my own business for 30 years and dealt with many types of business, good and bad but I can honestly say I have never dealt with such an appalling company in my entire life. My wife and I have spent several days on hold for hours at a time and not once been able to get through. \\textbackslash{}nThe general public should absolutely boycott this company in future. \\textbackslash{}nI understand that these are difficult times but the way this company is treating their customers is  absolutely repulsive. & $\\dots$ \\\\\n",
       "\t23 & 2020-07-07 & Debbie Atkinson & Booked to go to mexico 20th June this obviously got cancelled no emails from tui so rang 3rd june for refund was told 28 days this didn't happen rang again 3td July told them 7 more days or I'll start mcol got refund in full this morning will not be using tui again ever jet 2 every time for me now & $\\dots$ \\\\\n",
       "\t24 & 2020-07-07 & ANTHONY & Will never travel with this company again. They keep sending me e-mails telling me how to get in touch ,but have NEVER got an answer, no matter what time you phone or how long you hang on for. Disgraceful way to treat paying customers. & $\\dots$ \\\\\n",
       "\t25 & 2020-07-07 & Chris Gallon & I paid for a holiday in the Dominican Republic in full in December 2019. The holiday is planned for September 13th 2020. I had confirmation from the hotel at the beginning of June that the hotel will not be open at least November the first and that all Tui bookings had been cancelled until that date. Tui refuse to let me change the dates of the holiday without an admin fee and will not cancel my holiday even though they know they can not deliver it. Tui were also selling this holiday for 4 weeks after they knew about the closure and taking people's money off them. & $\\dots$ \\\\\n",
       "\t26 & 2020-07-07 & Jodie Bull & If I could give a 0 I would! Received an email a week ago advising they have cancelled our holiday. They have given several choices so I have chosen to claim back a cash refund. I have tried every day since with phone calls totalling about 5 hours, been given many different phone numbers to call and have still got nowhere! I have tried again today and after being in a queue for another 30 mins got cut off! Called back and now there are too many calls to even be put in a queue! Frustrated is not the word. I will never book with Tui again after this. I do not have time to spend so long in on the phone for noone to be able to actually help. & $\\dots$ \\\\\n",
       "\t27 & 2020-07-07 & Khye Waite  & if i could give it less than 1 star i would.\\textbackslash{}ni have had nothing but problems with TUI trying to change my holiday.  \\textbackslash{}nFirstly the online service to change details doesn't work it try to amend details. \\textbackslash{}nwhen i spoke on the phone it was £50 admin fee never said this changes after a time scale. next time i spoke it had gone to 600. Each time we have tried to change the holiday we have had one stumbling block after another. i am writing a letter of complaint and will not be booking with tui again & $\\dots$ \\\\\n",
       "\t28 & 2020-07-07 & Kenneth Clark & Now that covid has lessened , and travel has begun , why has tui stopped flights , from birmingham to Montego Bay.  They are operating from Manchester \\& Gatwick , for the winter, but not Birmingham , forcing midlands passengers , to travel to Manchester or London,I am a Wheelchair passenger , and this makes it , even more difficult for me ,so come on tui , do the right thing and re-instate direct flights from Birmingham please. & $\\dots$ \\\\\n",
       "\t29 & 2020-07-07 & Claire 'Morgan' Price & Still waiting for a refund from a family holiday to Florida that was cancelled in April 2020. Have contacted TUI every week, sometimes twice a week, only ever had one call back. We are owed nearly £12,000! Unable to book anything for 2021 as they have my money. So frustrated with their customer service. & $\\dots$ \\\\\n",
       "\t30 & 2020-07-07 & Mrs Wretham & i am trying to cancel my holiday for 14th sep this year ,please answer the phone .my husband astmatic so do not think its wise to go.i will never go though tui agian & $\\dots$ \\\\\n",
       "\t$\\dots$ & $\\dots$ & $\\dots$ & $\\dots$ &  \\\\\n",
       "\\end{tabular}\n"
      ],
      "text/plain": [
       "\u001b[1m1999×6 DataFrame\u001b[0m\n",
       "\u001b[1m  Row \u001b[0m│\u001b[1m Date       \u001b[0m\u001b[1m Author                \u001b[0m\u001b[1m Body                              \u001b[0m\u001b[1m \u001b[0m ⋯\n",
       "\u001b[1m      \u001b[0m│\u001b[90m Date       \u001b[0m\u001b[90m String63              \u001b[0m\u001b[90m String                            \u001b[0m\u001b[90m \u001b[0m ⋯\n",
       "──────┼─────────────────────────────────────────────────────────────────────────\n",
       "    1 │ 2020-07-06  Patricia Palmer        Think they need to contact peopl…   ⋯\n",
       "    2 │ 2020-07-06  Andy Tims              Just atrocious lack of customer …\n",
       "    3 │ 2020-07-06  Alexis                 If I could do no stars I would.\\…\n",
       "    4 │ 2020-07-06  Peter Kerr             Tui are totally useless, they ar…\n",
       "    5 │ 2020-07-06  Charlene               Shocking customer service, not e…   ⋯\n",
       "    6 │ 2020-07-06  Wanda Rutczynska       This company is the biggest frau…\n",
       "    7 │ 2020-07-06  Rowenah Preger         I don’t think they even qualify …\n",
       "    8 │ 2020-07-06  JANINE MURRAY          TUI Dispicable!! \\nIve made nume…\n",
       "    9 │ 2020-07-06  Jenny Hancock          Bought my holiday in store Septe…   ⋯\n",
       "   10 │ 2020-07-06  Jake Shaw              Was told on the phone I would ha…\n",
       "   11 │ 2020-07-07  S denny                Cancelled my holiday with Tui as…\n",
       "  ⋮   │     ⋮                 ⋮                            ⋮                   ⋱\n",
       " 1990 │ 2021-11-03   Lesley Brownlee       The TUI person was very helpful …\n",
       " 1991 │ 2021-11-03  parts                  My query was answered fully, qui…   ⋯\n",
       " 1992 │ 2021-11-03  Joan Liddle            Lovely lady on phone when I even…\n",
       " 1993 │ 2021-11-03  Bryan Hartley          A very helpful advisor explained…\n",
       " 1994 │ 2021-11-03  trudie fry             Liesa Pellow was my representati…\n",
       " 1995 │ 2021-11-03  Beverley               Always very helpful.                ⋯\n",
       " 1996 │ 2021-11-03  Mr Johnathan Gay       I was on hold for over half an h…\n",
       " 1997 │ 2021-11-03  Joanne                 Conflicting advice from differen…\n",
       " 1998 │ 2021-11-03  John richards          My Holliday was for may 2020 thi…\n",
       " 1999 │ 2021-11-03  MRS BROOK              The member of staff organised fo…   ⋯\n",
       "\u001b[36m                                                 3 columns and 1978 rows omitted\u001b[0m"
      ]
     },
     "execution_count": 3,
     "metadata": {},
     "output_type": "execute_result"
    }
   ],
   "source": [
    "df = CSV.read(\"Tui_TrustPilot.csv\", DataFrame)\n",
    "select!(df, Not(:Column1))"
   ]
  },
  {
   "cell_type": "markdown",
   "id": "d875260f-74b6-4734-b3bd-1c158d444ea0",
   "metadata": {},
   "source": [
    "## Transform the data"
   ]
  },
  {
   "cell_type": "code",
   "execution_count": 4,
   "id": "4c477bc0-c848-44e4-9f19-52dd6ae00abd",
   "metadata": {},
   "outputs": [],
   "source": [
    "reviews = []\n",
    "for i in 1:size(df.Body)[1]\n",
    "    push!(reviews, df.Body[i])\n",
    "end\n",
    "\n",
    "title_ = []\n",
    "for i in 1:size(df.Heading)[1]\n",
    "    push!(title_, df.Heading[i])\n",
    "end\n",
    "\n",
    "author_ = []\n",
    "for i in 1:size(df.Author)[1]\n",
    "    push!(author_, df.Author[i])\n",
    "end"
   ]
  },
  {
   "cell_type": "code",
   "execution_count": 5,
   "id": "0845bb1a-2457-4a24-bac2-d22e57995e41",
   "metadata": {},
   "outputs": [],
   "source": [
    "str_doc = []\n",
    "for i in reviews\n",
    "    i = StringDocument(i)\n",
    "    push!(str_doc, i)\n",
    "end"
   ]
  },
  {
   "cell_type": "code",
   "execution_count": 6,
   "id": "8e04a8a2-4a82-4ab3-96da-b280d9edd962",
   "metadata": {},
   "outputs": [],
   "source": [
    "for i in 1:size(str_doc)[1]\n",
    "    z = str_doc[i]\n",
    "    TextAnalysis.title!(z, title_[i])\n",
    "    author!(z, author_[i])\n",
    "end"
   ]
  },
  {
   "cell_type": "markdown",
   "id": "0438ed0a-c12e-433c-891f-596e59142eee",
   "metadata": {},
   "source": [
    "## Preprocessing the data"
   ]
  },
  {
   "cell_type": "code",
   "execution_count": 7,
   "id": "bbfcfb07-7d89-4feb-8cc5-260f10202e6f",
   "metadata": {},
   "outputs": [],
   "source": [
    "for i in 1:size(str_doc)[1]\n",
    "    z = str_doc[i]\n",
    "    remove_corrupt_utf8!(z)\n",
    "    remove_case!(z)\n",
    "    prepare!(z, strip_articles)\n",
    "    prepare!(z, strip_indefinite_articles)\n",
    "    prepare!(z, strip_definite_articles)\n",
    "    prepare!(z, strip_html_tags)\n",
    "    prepare!(z, strip_numbers)\n",
    "    prepare!(z, strip_stopwords)\n",
    "    prepare!(z, strip_non_letters)\n",
    "    stem!(z)\n",
    "end"
   ]
  },
  {
   "cell_type": "code",
   "execution_count": 8,
   "id": "3dc45b6a-e1e8-46bd-8486-a23c734e52df",
   "metadata": {},
   "outputs": [
    {
     "data": {
      "text/plain": [
       "A Corpus with 1999 documents:\n",
       " * 1999 StringDocument's\n",
       " * 0 FileDocument's\n",
       " * 0 TokenDocument's\n",
       " * 0 NGramDocument's\n",
       "\n",
       "Corpus's lexicon contains 0 tokens\n",
       "Corpus's index contains 0 tokens"
      ]
     },
     "execution_count": 8,
     "metadata": {},
     "output_type": "execute_result"
    }
   ],
   "source": [
    "crps = Corpus(str_doc)"
   ]
  },
  {
   "cell_type": "markdown",
   "id": "a4b0adc2-9bdd-4f49-8aeb-b4bce1e644cb",
   "metadata": {},
   "source": [
    "# The most frequent words"
   ]
  },
  {
   "cell_type": "code",
   "execution_count": 9,
   "id": "184a095f-d4e0-42a4-91d2-279304bc6ba4",
   "metadata": {},
   "outputs": [
    {
     "data": {
      "text/plain": [
       "A StringDocument{String}\n",
       " * Language: Languages.English()\n",
       " * Title: Think they need to contact people about…\n",
       " * Author: Patricia Palmer\n",
       " * Timestamp: Unknown Time\n",
       " * Snippet: contact peopl cancel holiday shock treatment tell "
      ]
     },
     "execution_count": 9,
     "metadata": {},
     "output_type": "execute_result"
    }
   ],
   "source": [
    "crps[1]"
   ]
  },
  {
   "cell_type": "code",
   "execution_count": 10,
   "id": "d15aced6-4f88-41e3-8d1b-bd0d9dee489a",
   "metadata": {},
   "outputs": [],
   "source": [
    "standardize!(crps, TokenDocument)"
   ]
  },
  {
   "cell_type": "code",
   "execution_count": 11,
   "id": "75debdc7-98cd-4051-b3d3-f79233c87f74",
   "metadata": {},
   "outputs": [],
   "source": [
    "update_lexicon!(crps)"
   ]
  },
  {
   "cell_type": "code",
   "execution_count": 12,
   "id": "700a8142-948b-43c3-8af5-ead7b3f60039",
   "metadata": {},
   "outputs": [
    {
     "data": {
      "text/html": [
       "<div class=\"data-frame\"><p>5,353 rows × 2 columns</p><table class=\"data-frame\"><thead><tr><th></th><th>variable</th><th>value</th></tr><tr><th></th><th title=\"String\">String</th><th title=\"Int64\">Int64</th></tr></thead><tbody><tr><th>1</th><td>tui</td><td>3271</td></tr><tr><th>2</th><td>holiday</td><td>2804</td></tr><tr><th>3</th><td>book</td><td>2194</td></tr><tr><th>4</th><td>cancel</td><td>1539</td></tr><tr><th>5</th><td>refund</td><td>1533</td></tr><tr><th>6</th><td>custom</td><td>1125</td></tr><tr><th>7</th><td>day</td><td>1030</td></tr><tr><th>8</th><td>call</td><td>1011</td></tr><tr><th>9</th><td>time</td><td>978</td></tr><tr><th>10</th><td>servic</td><td>865</td></tr><tr><th>11</th><td>money</td><td>823</td></tr><tr><th>12</th><td>flight</td><td>789</td></tr><tr><th>13</th><td>phone</td><td>764</td></tr><tr><th>14</th><td>email</td><td>707</td></tr><tr><th>15</th><td>compani</td><td>701</td></tr><tr><th>16</th><td>hour</td><td>692</td></tr><tr><th>17</th><td>told</td><td>685</td></tr><tr><th>18</th><td>due</td><td>655</td></tr><tr><th>19</th><td>chang</td><td>624</td></tr><tr><th>20</th><td>hotel</td><td>612</td></tr><tr><th>21</th><td>tri</td><td>612</td></tr><tr><th>22</th><td>wait</td><td>565</td></tr><tr><th>23</th><td>covid</td><td>551</td></tr><tr><th>24</th><td>travel</td><td>550</td></tr><tr><th>25</th><td>week</td><td>537</td></tr><tr><th>26</th><td>help</td><td>423</td></tr><tr><th>27</th><td>receiv</td><td>423</td></tr><tr><th>28</th><td>pay</td><td>396</td></tr><tr><th>29</th><td>peopl</td><td>382</td></tr><tr><th>30</th><td>contact</td><td>365</td></tr><tr><th>&vellip;</th><td>&vellip;</td><td>&vellip;</td></tr></tbody></table></div>"
      ],
      "text/latex": [
       "\\begin{tabular}{r|cc}\n",
       "\t& variable & value\\\\\n",
       "\t\\hline\n",
       "\t& String & Int64\\\\\n",
       "\t\\hline\n",
       "\t1 & tui & 3271 \\\\\n",
       "\t2 & holiday & 2804 \\\\\n",
       "\t3 & book & 2194 \\\\\n",
       "\t4 & cancel & 1539 \\\\\n",
       "\t5 & refund & 1533 \\\\\n",
       "\t6 & custom & 1125 \\\\\n",
       "\t7 & day & 1030 \\\\\n",
       "\t8 & call & 1011 \\\\\n",
       "\t9 & time & 978 \\\\\n",
       "\t10 & servic & 865 \\\\\n",
       "\t11 & money & 823 \\\\\n",
       "\t12 & flight & 789 \\\\\n",
       "\t13 & phone & 764 \\\\\n",
       "\t14 & email & 707 \\\\\n",
       "\t15 & compani & 701 \\\\\n",
       "\t16 & hour & 692 \\\\\n",
       "\t17 & told & 685 \\\\\n",
       "\t18 & due & 655 \\\\\n",
       "\t19 & chang & 624 \\\\\n",
       "\t20 & hotel & 612 \\\\\n",
       "\t21 & tri & 612 \\\\\n",
       "\t22 & wait & 565 \\\\\n",
       "\t23 & covid & 551 \\\\\n",
       "\t24 & travel & 550 \\\\\n",
       "\t25 & week & 537 \\\\\n",
       "\t26 & help & 423 \\\\\n",
       "\t27 & receiv & 423 \\\\\n",
       "\t28 & pay & 396 \\\\\n",
       "\t29 & peopl & 382 \\\\\n",
       "\t30 & contact & 365 \\\\\n",
       "\t$\\dots$ & $\\dots$ & $\\dots$ \\\\\n",
       "\\end{tabular}\n"
      ],
      "text/plain": [
       "\u001b[1m5353×2 DataFrame\u001b[0m\n",
       "\u001b[1m  Row \u001b[0m│\u001b[1m variable \u001b[0m\u001b[1m value \u001b[0m\n",
       "\u001b[1m      \u001b[0m│\u001b[90m String   \u001b[0m\u001b[90m Int64 \u001b[0m\n",
       "──────┼─────────────────\n",
       "    1 │ tui        3271\n",
       "    2 │ holiday    2804\n",
       "    3 │ book       2194\n",
       "    4 │ cancel     1539\n",
       "    5 │ refund     1533\n",
       "    6 │ custom     1125\n",
       "    7 │ day        1030\n",
       "    8 │ call       1011\n",
       "    9 │ time        978\n",
       "   10 │ servic      865\n",
       "   11 │ money       823\n",
       "  ⋮   │    ⋮        ⋮\n",
       " 5344 │ yell          1\n",
       " 5345 │ yous          1\n",
       " 5346 │ youtub        1\n",
       " 5347 │ yowan         1\n",
       " 5348 │ yup           1\n",
       " 5349 │ zahme         1\n",
       " 5350 │ zee           1\n",
       " 5351 │ zilch         1\n",
       " 5352 │ zip           1\n",
       " 5353 │ zone          1\n",
       "\u001b[36m       5332 rows omitted\u001b[0m"
      ]
     },
     "execution_count": 12,
     "metadata": {},
     "output_type": "execute_result"
    }
   ],
   "source": [
    "freq_words = (stack(DataFrame(lexicon(crps)), names(DataFrame(lexicon(crps)))))\n",
    "sort!(freq_words, :value, rev=true)"
   ]
  },
  {
   "cell_type": "code",
   "execution_count": 56,
   "id": "d8e8961a-f666-487b-88d9-bb70c02deae3",
   "metadata": {},
   "outputs": [
    {
     "data": {
      "application/vnd.plotly.v1+json": {
       "config": {
        "editable": false,
        "responsive": true,
        "scrollZoom": true,
        "showLink": false,
        "staticPlot": false,
        "toImageButtonOptions": {
         "filename": "custom_image",
         "format": "png",
         "height": 1280,
         "scale": 2,
         "width": 720
        }
       },
       "data": [
        {
         "exttemplate": "%{text:.2f}",
         "orientation": "h",
         "textposition": "outside",
         "type": "bar",
         "x": [
          612,
          624,
          655,
          685,
          692,
          701,
          707,
          764,
          789,
          823,
          865,
          978,
          1011,
          1030,
          1125,
          1533,
          1539,
          2194,
          2804,
          3271
         ],
         "y": [
          "hotel",
          "chang",
          "due",
          "told",
          "hour",
          "compani",
          "email",
          "phone",
          "flight",
          "money",
          "servic",
          "time",
          "call",
          "day",
          "custom",
          "refund",
          "cancel",
          "book",
          "holiday",
          "tui"
         ]
        }
       ],
       "frames": [],
       "layout": {
        "font": {
         "family": "Arial"
        },
        "height": 720,
        "margin": {
         "b": 50,
         "l": 50,
         "r": 50,
         "t": 60
        },
        "template": {
         "data": {
          "bar": [
           {
            "error_x": {
             "color": "#2a3f5f"
            },
            "error_y": {
             "color": "#2a3f5f"
            },
            "marker": {
             "line": {
              "color": "#E5ECF6",
              "width": 0.5
             }
            },
            "type": "bar"
           }
          ],
          "barpolar": [
           {
            "marker": {
             "line": {
              "color": "#E5ECF6",
              "width": 0.5
             }
            },
            "type": "barpolar"
           }
          ],
          "carpet": [
           {
            "aaxis": {
             "endlinecolor": "#2a3f5f",
             "gridcolor": "white",
             "linecolor": "white",
             "minorgridcolor": "white",
             "startlinecolor": "#2a3f5f"
            },
            "baxis": {
             "endlinecolor": "#2a3f5f",
             "gridcolor": "white",
             "linecolor": "white",
             "minorgridcolor": "white",
             "startlinecolor": "#2a3f5f"
            },
            "type": "carpet"
           }
          ],
          "choropleth": [
           {
            "colorbar": {
             "outlinewidth": 0,
             "ticks": ""
            },
            "type": "choropleth"
           }
          ],
          "contour": [
           {
            "colorbar": {
             "outlinewidth": 0,
             "ticks": ""
            },
            "colorscale": [
             [
              0,
              "#0d0887"
             ],
             [
              0.1111111111111111,
              "#46039f"
             ],
             [
              0.2222222222222222,
              "#7201a8"
             ],
             [
              0.3333333333333333,
              "#9c179e"
             ],
             [
              0.4444444444444444,
              "#bd3786"
             ],
             [
              0.5555555555555556,
              "#d8576b"
             ],
             [
              0.6666666666666666,
              "#ed7953"
             ],
             [
              0.7777777777777778,
              "#fb9f3a"
             ],
             [
              0.8888888888888888,
              "#fdca26"
             ],
             [
              1,
              "#f0f921"
             ]
            ],
            "type": "contour"
           }
          ],
          "contourcarpet": [
           {
            "colorbar": {
             "outlinewidth": 0,
             "ticks": ""
            },
            "type": "contourcarpet"
           }
          ],
          "heatmap": [
           {
            "colorbar": {
             "outlinewidth": 0,
             "ticks": ""
            },
            "colorscale": [
             [
              0,
              "#0d0887"
             ],
             [
              0.1111111111111111,
              "#46039f"
             ],
             [
              0.2222222222222222,
              "#7201a8"
             ],
             [
              0.3333333333333333,
              "#9c179e"
             ],
             [
              0.4444444444444444,
              "#bd3786"
             ],
             [
              0.5555555555555556,
              "#d8576b"
             ],
             [
              0.6666666666666666,
              "#ed7953"
             ],
             [
              0.7777777777777778,
              "#fb9f3a"
             ],
             [
              0.8888888888888888,
              "#fdca26"
             ],
             [
              1,
              "#f0f921"
             ]
            ],
            "type": "heatmap"
           }
          ],
          "heatmapgl": [
           {
            "colorbar": {
             "outlinewidth": 0,
             "ticks": ""
            },
            "colorscale": [
             [
              0,
              "#0d0887"
             ],
             [
              0.1111111111111111,
              "#46039f"
             ],
             [
              0.2222222222222222,
              "#7201a8"
             ],
             [
              0.3333333333333333,
              "#9c179e"
             ],
             [
              0.4444444444444444,
              "#bd3786"
             ],
             [
              0.5555555555555556,
              "#d8576b"
             ],
             [
              0.6666666666666666,
              "#ed7953"
             ],
             [
              0.7777777777777778,
              "#fb9f3a"
             ],
             [
              0.8888888888888888,
              "#fdca26"
             ],
             [
              1,
              "#f0f921"
             ]
            ],
            "type": "heatmapgl"
           }
          ],
          "histogram": [
           {
            "marker": {
             "colorbar": {
              "outlinewidth": 0,
              "ticks": ""
             }
            },
            "type": "histogram"
           }
          ],
          "histogram2d": [
           {
            "colorbar": {
             "outlinewidth": 0,
             "ticks": ""
            },
            "colorscale": [
             [
              0,
              "#0d0887"
             ],
             [
              0.1111111111111111,
              "#46039f"
             ],
             [
              0.2222222222222222,
              "#7201a8"
             ],
             [
              0.3333333333333333,
              "#9c179e"
             ],
             [
              0.4444444444444444,
              "#bd3786"
             ],
             [
              0.5555555555555556,
              "#d8576b"
             ],
             [
              0.6666666666666666,
              "#ed7953"
             ],
             [
              0.7777777777777778,
              "#fb9f3a"
             ],
             [
              0.8888888888888888,
              "#fdca26"
             ],
             [
              1,
              "#f0f921"
             ]
            ],
            "type": "histogram2d"
           }
          ],
          "histogram2dcontour": [
           {
            "colorbar": {
             "outlinewidth": 0,
             "ticks": ""
            },
            "colorscale": [
             [
              0,
              "#0d0887"
             ],
             [
              0.1111111111111111,
              "#46039f"
             ],
             [
              0.2222222222222222,
              "#7201a8"
             ],
             [
              0.3333333333333333,
              "#9c179e"
             ],
             [
              0.4444444444444444,
              "#bd3786"
             ],
             [
              0.5555555555555556,
              "#d8576b"
             ],
             [
              0.6666666666666666,
              "#ed7953"
             ],
             [
              0.7777777777777778,
              "#fb9f3a"
             ],
             [
              0.8888888888888888,
              "#fdca26"
             ],
             [
              1,
              "#f0f921"
             ]
            ],
            "type": "histogram2dcontour"
           }
          ],
          "mesh3d": [
           {
            "colorbar": {
             "outlinewidth": 0,
             "ticks": ""
            },
            "type": "mesh3d"
           }
          ],
          "parcoords": [
           {
            "line": {
             "colorbar": {
              "outlinewidth": 0,
              "ticks": ""
             }
            },
            "type": "parcoords"
           }
          ],
          "pie": [
           {
            "automargin": true,
            "type": "pie"
           }
          ],
          "scatter": [
           {
            "marker": {
             "colorbar": {
              "outlinewidth": 0,
              "ticks": ""
             }
            },
            "type": "scatter"
           }
          ],
          "scatter3d": [
           {
            "line": {
             "colorbar": {
              "outlinewidth": 0,
              "ticks": ""
             }
            },
            "marker": {
             "colorbar": {
              "outlinewidth": 0,
              "ticks": ""
             }
            },
            "type": "scatter3d"
           }
          ],
          "scattercarpet": [
           {
            "marker": {
             "colorbar": {
              "outlinewidth": 0,
              "ticks": ""
             }
            },
            "type": "scattercarpet"
           }
          ],
          "scattergeo": [
           {
            "marker": {
             "colorbar": {
              "outlinewidth": 0,
              "ticks": ""
             }
            },
            "type": "scattergeo"
           }
          ],
          "scattergl": [
           {
            "marker": {
             "colorbar": {
              "outlinewidth": 0,
              "ticks": ""
             }
            },
            "type": "scattergl"
           }
          ],
          "scattermapbox": [
           {
            "marker": {
             "colorbar": {
              "outlinewidth": 0,
              "ticks": ""
             }
            },
            "type": "scattermapbox"
           }
          ],
          "scatterpolar": [
           {
            "marker": {
             "colorbar": {
              "outlinewidth": 0,
              "ticks": ""
             }
            },
            "type": "scatterpolar"
           }
          ],
          "scatterpolargl": [
           {
            "marker": {
             "colorbar": {
              "outlinewidth": 0,
              "ticks": ""
             }
            },
            "type": "scatterpolargl"
           }
          ],
          "scatterternary": [
           {
            "marker": {
             "colorbar": {
              "outlinewidth": 0,
              "ticks": ""
             }
            },
            "type": "scatterternary"
           }
          ],
          "surface": [
           {
            "colorbar": {
             "outlinewidth": 0,
             "ticks": ""
            },
            "colorscale": [
             [
              0,
              "#0d0887"
             ],
             [
              0.1111111111111111,
              "#46039f"
             ],
             [
              0.2222222222222222,
              "#7201a8"
             ],
             [
              0.3333333333333333,
              "#9c179e"
             ],
             [
              0.4444444444444444,
              "#bd3786"
             ],
             [
              0.5555555555555556,
              "#d8576b"
             ],
             [
              0.6666666666666666,
              "#ed7953"
             ],
             [
              0.7777777777777778,
              "#fb9f3a"
             ],
             [
              0.8888888888888888,
              "#fdca26"
             ],
             [
              1,
              "#f0f921"
             ]
            ],
            "type": "surface"
           }
          ],
          "table": [
           {
            "cells": {
             "fill": {
              "color": "#EBF0F8"
             },
             "line": {
              "color": "white"
             }
            },
            "header": {
             "fill": {
              "color": "#C8D4E3"
             },
             "line": {
              "color": "white"
             }
            },
            "type": "table"
           }
          ]
         },
         "layout": {
          "annotationdefaults": {
           "arrowcolor": "#2a3f5f",
           "arrowhead": 0,
           "arrowwidth": 1
          },
          "autotypenumbers": "strict",
          "coloraxis": {
           "colorbar": {
            "outlinewidth": 0,
            "ticks": ""
           }
          },
          "colorscale": {
           "diverging": [
            [
             0,
             "#8e0152"
            ],
            [
             0.1,
             "#c51b7d"
            ],
            [
             0.2,
             "#de77ae"
            ],
            [
             0.3,
             "#f1b6da"
            ],
            [
             0.4,
             "#fde0ef"
            ],
            [
             0.5,
             "#f7f7f7"
            ],
            [
             0.6,
             "#e6f5d0"
            ],
            [
             0.7,
             "#b8e186"
            ],
            [
             0.8,
             "#7fbc41"
            ],
            [
             0.9,
             "#4d9221"
            ],
            [
             1,
             "#276419"
            ]
           ],
           "sequential": [
            [
             0,
             "#0d0887"
            ],
            [
             0.1111111111111111,
             "#46039f"
            ],
            [
             0.2222222222222222,
             "#7201a8"
            ],
            [
             0.3333333333333333,
             "#9c179e"
            ],
            [
             0.4444444444444444,
             "#bd3786"
            ],
            [
             0.5555555555555556,
             "#d8576b"
            ],
            [
             0.6666666666666666,
             "#ed7953"
            ],
            [
             0.7777777777777778,
             "#fb9f3a"
            ],
            [
             0.8888888888888888,
             "#fdca26"
            ],
            [
             1,
             "#f0f921"
            ]
           ],
           "sequentialminus": [
            [
             0,
             "#0d0887"
            ],
            [
             0.1111111111111111,
             "#46039f"
            ],
            [
             0.2222222222222222,
             "#7201a8"
            ],
            [
             0.3333333333333333,
             "#9c179e"
            ],
            [
             0.4444444444444444,
             "#bd3786"
            ],
            [
             0.5555555555555556,
             "#d8576b"
            ],
            [
             0.6666666666666666,
             "#ed7953"
            ],
            [
             0.7777777777777778,
             "#fb9f3a"
            ],
            [
             0.8888888888888888,
             "#fdca26"
            ],
            [
             1,
             "#f0f921"
            ]
           ]
          },
          "colorway": [
           "#636efa",
           "#EF553B",
           "#00cc96",
           "#ab63fa",
           "#FFA15A",
           "#19d3f3",
           "#FF6692",
           "#B6E880",
           "#FF97FF",
           "#FECB52"
          ],
          "font": {
           "color": "#2a3f5f"
          },
          "geo": {
           "bgcolor": "white",
           "lakecolor": "white",
           "landcolor": "#E5ECF6",
           "showlakes": true,
           "showland": true,
           "subunitcolor": "white"
          },
          "hoverlabel": {
           "align": "left"
          },
          "hovermode": "closest",
          "mapbox": {
           "style": "light"
          },
          "paper_bgcolor": "white",
          "plot_bgcolor": "#E5ECF6",
          "polar": {
           "angularaxis": {
            "gridcolor": "white",
            "linecolor": "white",
            "ticks": ""
           },
           "bgcolor": "#E5ECF6",
           "radialaxis": {
            "gridcolor": "white",
            "linecolor": "white",
            "ticks": ""
           }
          },
          "scene": {
           "xaxis": {
            "backgroundcolor": "#E5ECF6",
            "gridcolor": "white",
            "gridwidth": 2,
            "linecolor": "white",
            "showbackground": true,
            "ticks": "",
            "zerolinecolor": "white"
           },
           "yaxis": {
            "backgroundcolor": "#E5ECF6",
            "gridcolor": "white",
            "gridwidth": 2,
            "linecolor": "white",
            "showbackground": true,
            "ticks": "",
            "zerolinecolor": "white"
           },
           "zaxis": {
            "backgroundcolor": "#E5ECF6",
            "gridcolor": "white",
            "gridwidth": 2,
            "linecolor": "white",
            "showbackground": true,
            "ticks": "",
            "zerolinecolor": "white"
           }
          },
          "shapedefaults": {
           "line": {
            "color": "#2a3f5f"
           }
          },
          "ternary": {
           "aaxis": {
            "gridcolor": "white",
            "linecolor": "white",
            "ticks": ""
           },
           "baxis": {
            "gridcolor": "white",
            "linecolor": "white",
            "ticks": ""
           },
           "bgcolor": "#E5ECF6",
           "caxis": {
            "gridcolor": "white",
            "linecolor": "white",
            "ticks": ""
           }
          },
          "title": {
           "x": 0.05
          },
          "xaxis": {
           "automargin": true,
           "gridcolor": "white",
           "linecolor": "white",
           "ticks": "",
           "title": {
            "standoff": 15
           },
           "zerolinecolor": "white",
           "zerolinewidth": 2
          },
          "yaxis": {
           "automargin": true,
           "gridcolor": "white",
           "linecolor": "white",
           "ticks": "",
           "title": {
            "standoff": 15
           },
           "zerolinecolor": "white",
           "zerolinewidth": 2
          }
         }
        },
        "title": "Word Frequency",
        "width": 1280,
        "xaxis": {
         "title": {
          "text": "Count"
         }
        },
        "yaxis": {
         "title": {
          "text": "Word"
         }
        }
       }
      },
      "text/html": [
       "<div\n",
       "    class=\"webio-mountpoint\"\n",
       "    data-webio-mountpoint=\"12071250914158618595\"\n",
       ">\n",
       "    <script>\n",
       "    (function(){\n",
       "    // Some integrations (namely, IJulia/Jupyter) use an alternate render pathway than\n",
       "    // just putting the html on the page. If WebIO isn't defined, then it's pretty likely\n",
       "    // that we're in one of those situations and the integration just isn't installed\n",
       "    // correctly.\n",
       "    if (typeof window.WebIO === \"undefined\") {\n",
       "        document\n",
       "            .querySelector('[data-webio-mountpoint=\"12071250914158618595\"]')\n",
       "            .innerHTML = (\n",
       "                '<div style=\"padding: 1em; background-color: #f8d6da; border: 1px solid #f5c6cb; font-weight: bold;\">' +\n",
       "                '<p><strong>WebIO not detected.</strong></p>' +\n",
       "                '<p>Please read ' +\n",
       "                '<a href=\"https://juliagizmos.github.io/WebIO.jl/latest/troubleshooting/not-detected/\" target=\"_blank\">the troubleshooting guide</a> ' +\n",
       "                'for more information on how to resolve this issue.</p>' +\n",
       "                '<p><a href=\"https://juliagizmos.github.io/WebIO.jl/latest/troubleshooting/not-detected/\" target=\"_blank\">https://juliagizmos.github.io/WebIO.jl/latest/troubleshooting/not-detected/</a></p>' +\n",
       "                '</div>'\n",
       "            );\n",
       "        return;\n",
       "    }\n",
       "    WebIO.mount(\n",
       "        document.querySelector('[data-webio-mountpoint=\"12071250914158618595\"]'),\n",
       "        {\"props\":{},\"nodeType\":\"Scope\",\"type\":\"node\",\"instanceArgs\":{\"imports\":{\"data\":[{\"name\":\"Plotly\",\"type\":\"js\",\"url\":\"\\/assetserver\\/7bde4e40b9bc6f0d214fc5bec1a86570244b1c38-plotly.min.js\"},{\"name\":null,\"type\":\"js\",\"url\":\"\\/assetserver\\/83cf468f24f486e0b333a4184237b8355cb4db60-plotly_webio.bundle.js\"}],\"type\":\"async_block\"},\"id\":\"11911980650349165775\",\"handlers\":{\"_toImage\":[\"(function (options){return this.Plotly.toImage(this.plotElem,options).then((function (data){return WebIO.setval({\\\"name\\\":\\\"image\\\",\\\"scope\\\":\\\"11911980650349165775\\\",\\\"id\\\":\\\"472288223383892955\\\",\\\"type\\\":\\\"observable\\\"},data)}))})\"],\"__get_gd_contents\":[\"(function (prop){prop==\\\"data\\\" ? (WebIO.setval({\\\"name\\\":\\\"__gd_contents\\\",\\\"scope\\\":\\\"11911980650349165775\\\",\\\"id\\\":\\\"3606735583434848483\\\",\\\"type\\\":\\\"observable\\\"},this.plotElem.data)) : undefined; return prop==\\\"layout\\\" ? (WebIO.setval({\\\"name\\\":\\\"__gd_contents\\\",\\\"scope\\\":\\\"11911980650349165775\\\",\\\"id\\\":\\\"3606735583434848483\\\",\\\"type\\\":\\\"observable\\\"},this.plotElem.layout)) : undefined})\"],\"_downloadImage\":[\"(function (options){return this.Plotly.downloadImage(this.plotElem,options)})\"],\"_commands\":[\"(function (args){var fn=args.shift(); var elem=this.plotElem; var Plotly=this.Plotly; args.unshift(elem); return Plotly[fn].apply(this,args)})\"]},\"systemjs_options\":null,\"mount_callbacks\":[\"function () {\\n    var handler = ((function (Plotly,PlotlyWebIO){PlotlyWebIO.init(WebIO); var gd=this.dom.querySelector(\\\"#plot-b51ba628-3e79-40ee-adcf-304e0e55182d\\\"); this.plotElem=gd; this.Plotly=Plotly; (window.Blink!==undefined) ? (gd.style.width=\\\"100%\\\", gd.style.height=\\\"100vh\\\", gd.style.marginLeft=\\\"0%\\\", gd.style.marginTop=\\\"0vh\\\") : undefined; window.onresize=(function (){return Plotly.Plots.resize(gd)}); Plotly.newPlot(gd,[{\\\"textposition\\\":\\\"outside\\\",\\\"y\\\":[\\\"hotel\\\",\\\"chang\\\",\\\"due\\\",\\\"told\\\",\\\"hour\\\",\\\"compani\\\",\\\"email\\\",\\\"phone\\\",\\\"flight\\\",\\\"money\\\",\\\"servic\\\",\\\"time\\\",\\\"call\\\",\\\"day\\\",\\\"custom\\\",\\\"refund\\\",\\\"cancel\\\",\\\"book\\\",\\\"holiday\\\",\\\"tui\\\"],\\\"type\\\":\\\"bar\\\",\\\"exttemplate\\\":\\\"%{text:.2f}\\\",\\\"orientation\\\":\\\"h\\\",\\\"x\\\":[612,624,655,685,692,701,707,764,789,823,865,978,1011,1030,1125,1533,1539,2194,2804,3271]}],{\\\"xaxis\\\":{\\\"title\\\":{\\\"text\\\":\\\"Count\\\"}},\\\"font\\\":{\\\"family\\\":\\\"Arial\\\"},\\\"template\\\":{\\\"layout\\\":{\\\"coloraxis\\\":{\\\"colorbar\\\":{\\\"ticks\\\":\\\"\\\",\\\"outlinewidth\\\":0}},\\\"xaxis\\\":{\\\"gridcolor\\\":\\\"white\\\",\\\"zerolinewidth\\\":2,\\\"title\\\":{\\\"standoff\\\":15},\\\"ticks\\\":\\\"\\\",\\\"zerolinecolor\\\":\\\"white\\\",\\\"automargin\\\":true,\\\"linecolor\\\":\\\"white\\\"},\\\"hovermode\\\":\\\"closest\\\",\\\"paper_bgcolor\\\":\\\"white\\\",\\\"geo\\\":{\\\"showlakes\\\":true,\\\"showland\\\":true,\\\"landcolor\\\":\\\"#E5ECF6\\\",\\\"bgcolor\\\":\\\"white\\\",\\\"subunitcolor\\\":\\\"white\\\",\\\"lakecolor\\\":\\\"white\\\"},\\\"colorscale\\\":{\\\"sequential\\\":[[0.0,\\\"#0d0887\\\"],[0.1111111111111111,\\\"#46039f\\\"],[0.2222222222222222,\\\"#7201a8\\\"],[0.3333333333333333,\\\"#9c179e\\\"],[0.4444444444444444,\\\"#bd3786\\\"],[0.5555555555555556,\\\"#d8576b\\\"],[0.6666666666666666,\\\"#ed7953\\\"],[0.7777777777777778,\\\"#fb9f3a\\\"],[0.8888888888888888,\\\"#fdca26\\\"],[1.0,\\\"#f0f921\\\"]],\\\"diverging\\\":[[0,\\\"#8e0152\\\"],[0.1,\\\"#c51b7d\\\"],[0.2,\\\"#de77ae\\\"],[0.3,\\\"#f1b6da\\\"],[0.4,\\\"#fde0ef\\\"],[0.5,\\\"#f7f7f7\\\"],[0.6,\\\"#e6f5d0\\\"],[0.7,\\\"#b8e186\\\"],[0.8,\\\"#7fbc41\\\"],[0.9,\\\"#4d9221\\\"],[1,\\\"#276419\\\"]],\\\"sequentialminus\\\":[[0.0,\\\"#0d0887\\\"],[0.1111111111111111,\\\"#46039f\\\"],[0.2222222222222222,\\\"#7201a8\\\"],[0.3333333333333333,\\\"#9c179e\\\"],[0.4444444444444444,\\\"#bd3786\\\"],[0.5555555555555556,\\\"#d8576b\\\"],[0.6666666666666666,\\\"#ed7953\\\"],[0.7777777777777778,\\\"#fb9f3a\\\"],[0.8888888888888888,\\\"#fdca26\\\"],[1.0,\\\"#f0f921\\\"]]},\\\"yaxis\\\":{\\\"gridcolor\\\":\\\"white\\\",\\\"zerolinewidth\\\":2,\\\"title\\\":{\\\"standoff\\\":15},\\\"ticks\\\":\\\"\\\",\\\"zerolinecolor\\\":\\\"white\\\",\\\"automargin\\\":true,\\\"linecolor\\\":\\\"white\\\"},\\\"shapedefaults\\\":{\\\"line\\\":{\\\"color\\\":\\\"#2a3f5f\\\"}},\\\"hoverlabel\\\":{\\\"align\\\":\\\"left\\\"},\\\"mapbox\\\":{\\\"style\\\":\\\"light\\\"},\\\"polar\\\":{\\\"angularaxis\\\":{\\\"gridcolor\\\":\\\"white\\\",\\\"ticks\\\":\\\"\\\",\\\"linecolor\\\":\\\"white\\\"},\\\"bgcolor\\\":\\\"#E5ECF6\\\",\\\"radialaxis\\\":{\\\"gridcolor\\\":\\\"white\\\",\\\"ticks\\\":\\\"\\\",\\\"linecolor\\\":\\\"white\\\"}},\\\"autotypenumbers\\\":\\\"strict\\\",\\\"font\\\":{\\\"color\\\":\\\"#2a3f5f\\\"},\\\"ternary\\\":{\\\"baxis\\\":{\\\"gridcolor\\\":\\\"white\\\",\\\"ticks\\\":\\\"\\\",\\\"linecolor\\\":\\\"white\\\"},\\\"bgcolor\\\":\\\"#E5ECF6\\\",\\\"caxis\\\":{\\\"gridcolor\\\":\\\"white\\\",\\\"ticks\\\":\\\"\\\",\\\"linecolor\\\":\\\"white\\\"},\\\"aaxis\\\":{\\\"gridcolor\\\":\\\"white\\\",\\\"ticks\\\":\\\"\\\",\\\"linecolor\\\":\\\"white\\\"}},\\\"annotationdefaults\\\":{\\\"arrowhead\\\":0,\\\"arrowwidth\\\":1,\\\"arrowcolor\\\":\\\"#2a3f5f\\\"},\\\"plot_bgcolor\\\":\\\"#E5ECF6\\\",\\\"title\\\":{\\\"x\\\":0.05},\\\"scene\\\":{\\\"xaxis\\\":{\\\"gridcolor\\\":\\\"white\\\",\\\"gridwidth\\\":2,\\\"backgroundcolor\\\":\\\"#E5ECF6\\\",\\\"ticks\\\":\\\"\\\",\\\"showbackground\\\":true,\\\"zerolinecolor\\\":\\\"white\\\",\\\"linecolor\\\":\\\"white\\\"},\\\"zaxis\\\":{\\\"gridcolor\\\":\\\"white\\\",\\\"gridwidth\\\":2,\\\"backgroundcolor\\\":\\\"#E5ECF6\\\",\\\"ticks\\\":\\\"\\\",\\\"showbackground\\\":true,\\\"zerolinecolor\\\":\\\"white\\\",\\\"linecolor\\\":\\\"white\\\"},\\\"yaxis\\\":{\\\"gridcolor\\\":\\\"white\\\",\\\"gridwidth\\\":2,\\\"backgroundcolor\\\":\\\"#E5ECF6\\\",\\\"ticks\\\":\\\"\\\",\\\"showbackground\\\":true,\\\"zerolinecolor\\\":\\\"white\\\",\\\"linecolor\\\":\\\"white\\\"}},\\\"colorway\\\":[\\\"#636efa\\\",\\\"#EF553B\\\",\\\"#00cc96\\\",\\\"#ab63fa\\\",\\\"#FFA15A\\\",\\\"#19d3f3\\\",\\\"#FF6692\\\",\\\"#B6E880\\\",\\\"#FF97FF\\\",\\\"#FECB52\\\"]},\\\"data\\\":{\\\"barpolar\\\":[{\\\"type\\\":\\\"barpolar\\\",\\\"marker\\\":{\\\"line\\\":{\\\"color\\\":\\\"#E5ECF6\\\",\\\"width\\\":0.5}}}],\\\"carpet\\\":[{\\\"aaxis\\\":{\\\"gridcolor\\\":\\\"white\\\",\\\"endlinecolor\\\":\\\"#2a3f5f\\\",\\\"minorgridcolor\\\":\\\"white\\\",\\\"startlinecolor\\\":\\\"#2a3f5f\\\",\\\"linecolor\\\":\\\"white\\\"},\\\"type\\\":\\\"carpet\\\",\\\"baxis\\\":{\\\"gridcolor\\\":\\\"white\\\",\\\"endlinecolor\\\":\\\"#2a3f5f\\\",\\\"minorgridcolor\\\":\\\"white\\\",\\\"startlinecolor\\\":\\\"#2a3f5f\\\",\\\"linecolor\\\":\\\"white\\\"}}],\\\"scatterpolar\\\":[{\\\"type\\\":\\\"scatterpolar\\\",\\\"marker\\\":{\\\"colorbar\\\":{\\\"ticks\\\":\\\"\\\",\\\"outlinewidth\\\":0}}}],\\\"parcoords\\\":[{\\\"line\\\":{\\\"colorbar\\\":{\\\"ticks\\\":\\\"\\\",\\\"outlinewidth\\\":0}},\\\"type\\\":\\\"parcoords\\\"}],\\\"scatter\\\":[{\\\"type\\\":\\\"scatter\\\",\\\"marker\\\":{\\\"colorbar\\\":{\\\"ticks\\\":\\\"\\\",\\\"outlinewidth\\\":0}}}],\\\"histogram2dcontour\\\":[{\\\"colorbar\\\":{\\\"ticks\\\":\\\"\\\",\\\"outlinewidth\\\":0},\\\"type\\\":\\\"histogram2dcontour\\\",\\\"colorscale\\\":[[0.0,\\\"#0d0887\\\"],[0.1111111111111111,\\\"#46039f\\\"],[0.2222222222222222,\\\"#7201a8\\\"],[0.3333333333333333,\\\"#9c179e\\\"],[0.4444444444444444,\\\"#bd3786\\\"],[0.5555555555555556,\\\"#d8576b\\\"],[0.6666666666666666,\\\"#ed7953\\\"],[0.7777777777777778,\\\"#fb9f3a\\\"],[0.8888888888888888,\\\"#fdca26\\\"],[1.0,\\\"#f0f921\\\"]]}],\\\"contour\\\":[{\\\"colorbar\\\":{\\\"ticks\\\":\\\"\\\",\\\"outlinewidth\\\":0},\\\"type\\\":\\\"contour\\\",\\\"colorscale\\\":[[0.0,\\\"#0d0887\\\"],[0.1111111111111111,\\\"#46039f\\\"],[0.2222222222222222,\\\"#7201a8\\\"],[0.3333333333333333,\\\"#9c179e\\\"],[0.4444444444444444,\\\"#bd3786\\\"],[0.5555555555555556,\\\"#d8576b\\\"],[0.6666666666666666,\\\"#ed7953\\\"],[0.7777777777777778,\\\"#fb9f3a\\\"],[0.8888888888888888,\\\"#fdca26\\\"],[1.0,\\\"#f0f921\\\"]]}],\\\"scattercarpet\\\":[{\\\"type\\\":\\\"scattercarpet\\\",\\\"marker\\\":{\\\"colorbar\\\":{\\\"ticks\\\":\\\"\\\",\\\"outlinewidth\\\":0}}}],\\\"mesh3d\\\":[{\\\"colorbar\\\":{\\\"ticks\\\":\\\"\\\",\\\"outlinewidth\\\":0},\\\"type\\\":\\\"mesh3d\\\"}],\\\"surface\\\":[{\\\"colorbar\\\":{\\\"ticks\\\":\\\"\\\",\\\"outlinewidth\\\":0},\\\"type\\\":\\\"surface\\\",\\\"colorscale\\\":[[0.0,\\\"#0d0887\\\"],[0.1111111111111111,\\\"#46039f\\\"],[0.2222222222222222,\\\"#7201a8\\\"],[0.3333333333333333,\\\"#9c179e\\\"],[0.4444444444444444,\\\"#bd3786\\\"],[0.5555555555555556,\\\"#d8576b\\\"],[0.6666666666666666,\\\"#ed7953\\\"],[0.7777777777777778,\\\"#fb9f3a\\\"],[0.8888888888888888,\\\"#fdca26\\\"],[1.0,\\\"#f0f921\\\"]]}],\\\"scattermapbox\\\":[{\\\"type\\\":\\\"scattermapbox\\\",\\\"marker\\\":{\\\"colorbar\\\":{\\\"ticks\\\":\\\"\\\",\\\"outlinewidth\\\":0}}}],\\\"scattergeo\\\":[{\\\"type\\\":\\\"scattergeo\\\",\\\"marker\\\":{\\\"colorbar\\\":{\\\"ticks\\\":\\\"\\\",\\\"outlinewidth\\\":0}}}],\\\"histogram\\\":[{\\\"type\\\":\\\"histogram\\\",\\\"marker\\\":{\\\"colorbar\\\":{\\\"ticks\\\":\\\"\\\",\\\"outlinewidth\\\":0}}}],\\\"pie\\\":[{\\\"type\\\":\\\"pie\\\",\\\"automargin\\\":true}],\\\"choropleth\\\":[{\\\"colorbar\\\":{\\\"ticks\\\":\\\"\\\",\\\"outlinewidth\\\":0},\\\"type\\\":\\\"choropleth\\\"}],\\\"heatmapgl\\\":[{\\\"colorbar\\\":{\\\"ticks\\\":\\\"\\\",\\\"outlinewidth\\\":0},\\\"type\\\":\\\"heatmapgl\\\",\\\"colorscale\\\":[[0.0,\\\"#0d0887\\\"],[0.1111111111111111,\\\"#46039f\\\"],[0.2222222222222222,\\\"#7201a8\\\"],[0.3333333333333333,\\\"#9c179e\\\"],[0.4444444444444444,\\\"#bd3786\\\"],[0.5555555555555556,\\\"#d8576b\\\"],[0.6666666666666666,\\\"#ed7953\\\"],[0.7777777777777778,\\\"#fb9f3a\\\"],[0.8888888888888888,\\\"#fdca26\\\"],[1.0,\\\"#f0f921\\\"]]}],\\\"bar\\\":[{\\\"type\\\":\\\"bar\\\",\\\"error_y\\\":{\\\"color\\\":\\\"#2a3f5f\\\"},\\\"error_x\\\":{\\\"color\\\":\\\"#2a3f5f\\\"},\\\"marker\\\":{\\\"line\\\":{\\\"color\\\":\\\"#E5ECF6\\\",\\\"width\\\":0.5}}}],\\\"heatmap\\\":[{\\\"colorbar\\\":{\\\"ticks\\\":\\\"\\\",\\\"outlinewidth\\\":0},\\\"type\\\":\\\"heatmap\\\",\\\"colorscale\\\":[[0.0,\\\"#0d0887\\\"],[0.1111111111111111,\\\"#46039f\\\"],[0.2222222222222222,\\\"#7201a8\\\"],[0.3333333333333333,\\\"#9c179e\\\"],[0.4444444444444444,\\\"#bd3786\\\"],[0.5555555555555556,\\\"#d8576b\\\"],[0.6666666666666666,\\\"#ed7953\\\"],[0.7777777777777778,\\\"#fb9f3a\\\"],[0.8888888888888888,\\\"#fdca26\\\"],[1.0,\\\"#f0f921\\\"]]}],\\\"contourcarpet\\\":[{\\\"colorbar\\\":{\\\"ticks\\\":\\\"\\\",\\\"outlinewidth\\\":0},\\\"type\\\":\\\"contourcarpet\\\"}],\\\"table\\\":[{\\\"type\\\":\\\"table\\\",\\\"header\\\":{\\\"line\\\":{\\\"color\\\":\\\"white\\\"},\\\"fill\\\":{\\\"color\\\":\\\"#C8D4E3\\\"}},\\\"cells\\\":{\\\"line\\\":{\\\"color\\\":\\\"white\\\"},\\\"fill\\\":{\\\"color\\\":\\\"#EBF0F8\\\"}}}],\\\"scatter3d\\\":[{\\\"line\\\":{\\\"colorbar\\\":{\\\"ticks\\\":\\\"\\\",\\\"outlinewidth\\\":0}},\\\"type\\\":\\\"scatter3d\\\",\\\"marker\\\":{\\\"colorbar\\\":{\\\"ticks\\\":\\\"\\\",\\\"outlinewidth\\\":0}}}],\\\"scattergl\\\":[{\\\"type\\\":\\\"scattergl\\\",\\\"marker\\\":{\\\"colorbar\\\":{\\\"ticks\\\":\\\"\\\",\\\"outlinewidth\\\":0}}}],\\\"histogram2d\\\":[{\\\"colorbar\\\":{\\\"ticks\\\":\\\"\\\",\\\"outlinewidth\\\":0},\\\"type\\\":\\\"histogram2d\\\",\\\"colorscale\\\":[[0.0,\\\"#0d0887\\\"],[0.1111111111111111,\\\"#46039f\\\"],[0.2222222222222222,\\\"#7201a8\\\"],[0.3333333333333333,\\\"#9c179e\\\"],[0.4444444444444444,\\\"#bd3786\\\"],[0.5555555555555556,\\\"#d8576b\\\"],[0.6666666666666666,\\\"#ed7953\\\"],[0.7777777777777778,\\\"#fb9f3a\\\"],[0.8888888888888888,\\\"#fdca26\\\"],[1.0,\\\"#f0f921\\\"]]}],\\\"scatterternary\\\":[{\\\"type\\\":\\\"scatterternary\\\",\\\"marker\\\":{\\\"colorbar\\\":{\\\"ticks\\\":\\\"\\\",\\\"outlinewidth\\\":0}}}],\\\"scatterpolargl\\\":[{\\\"type\\\":\\\"scatterpolargl\\\",\\\"marker\\\":{\\\"colorbar\\\":{\\\"ticks\\\":\\\"\\\",\\\"outlinewidth\\\":0}}}]}},\\\"height\\\":720,\\\"margin\\\":{\\\"l\\\":50,\\\"b\\\":50,\\\"r\\\":50,\\\"t\\\":60},\\\"yaxis\\\":{\\\"title\\\":{\\\"text\\\":\\\"Word\\\"}},\\\"title\\\":\\\"Word Frequency\\\",\\\"width\\\":1280},{\\\"toImageButtonOptions\\\":{\\\"filename\\\":\\\"custom_image\\\",\\\"height\\\":1280,\\\"format\\\":\\\"png\\\",\\\"scale\\\":2,\\\"width\\\":720},\\\"showLink\\\":false,\\\"editable\\\":false,\\\"responsive\\\":true,\\\"staticPlot\\\":false,\\\"scrollZoom\\\":true}); gd.on(\\\"plotly_hover\\\",(function (data){var filtered_data=WebIO.PlotlyCommands.filterEventData(gd,data,\\\"hover\\\"); return !(filtered_data.isnil) ? (WebIO.setval({\\\"name\\\":\\\"hover\\\",\\\"scope\\\":\\\"11911980650349165775\\\",\\\"id\\\":\\\"13368474886261349875\\\",\\\"type\\\":\\\"observable\\\"},filtered_data.out)) : undefined})); gd.on(\\\"plotly_unhover\\\",(function (){return WebIO.setval({\\\"name\\\":\\\"hover\\\",\\\"scope\\\":\\\"11911980650349165775\\\",\\\"id\\\":\\\"13368474886261349875\\\",\\\"type\\\":\\\"observable\\\"},{})})); gd.on(\\\"plotly_selected\\\",(function (data){var filtered_data=WebIO.PlotlyCommands.filterEventData(gd,data,\\\"selected\\\"); return !(filtered_data.isnil) ? (WebIO.setval({\\\"name\\\":\\\"selected\\\",\\\"scope\\\":\\\"11911980650349165775\\\",\\\"id\\\":\\\"3689451089464197024\\\",\\\"type\\\":\\\"observable\\\"},filtered_data.out)) : undefined})); gd.on(\\\"plotly_deselect\\\",(function (){return WebIO.setval({\\\"name\\\":\\\"selected\\\",\\\"scope\\\":\\\"11911980650349165775\\\",\\\"id\\\":\\\"3689451089464197024\\\",\\\"type\\\":\\\"observable\\\"},{})})); gd.on(\\\"plotly_relayout\\\",(function (data){var filtered_data=WebIO.PlotlyCommands.filterEventData(gd,data,\\\"relayout\\\"); return !(filtered_data.isnil) ? (WebIO.setval({\\\"name\\\":\\\"relayout\\\",\\\"scope\\\":\\\"11911980650349165775\\\",\\\"id\\\":\\\"8746377544981058626\\\",\\\"type\\\":\\\"observable\\\"},filtered_data.out)) : undefined})); return gd.on(\\\"plotly_click\\\",(function (data){var filtered_data=WebIO.PlotlyCommands.filterEventData(gd,data,\\\"click\\\"); return !(filtered_data.isnil) ? (WebIO.setval({\\\"name\\\":\\\"click\\\",\\\"scope\\\":\\\"11911980650349165775\\\",\\\"id\\\":\\\"14537612240154646684\\\",\\\"type\\\":\\\"observable\\\"},filtered_data.out)) : undefined}))}));\\n    (WebIO.importBlock({\\\"data\\\":[{\\\"name\\\":\\\"Plotly\\\",\\\"type\\\":\\\"js\\\",\\\"url\\\":\\\"\\/assetserver\\/7bde4e40b9bc6f0d214fc5bec1a86570244b1c38-plotly.min.js\\\"},{\\\"name\\\":null,\\\"type\\\":\\\"js\\\",\\\"url\\\":\\\"\\/assetserver\\/83cf468f24f486e0b333a4184237b8355cb4db60-plotly_webio.bundle.js\\\"}],\\\"type\\\":\\\"async_block\\\"})).then((imports) => handler.apply(this, imports));\\n}\\n\"],\"observables\":{\"_toImage\":{\"sync\":false,\"id\":\"4360179392757812201\",\"value\":{}},\"hover\":{\"sync\":false,\"id\":\"13368474886261349875\",\"value\":{}},\"selected\":{\"sync\":false,\"id\":\"3689451089464197024\",\"value\":{}},\"__gd_contents\":{\"sync\":false,\"id\":\"3606735583434848483\",\"value\":{}},\"click\":{\"sync\":false,\"id\":\"14537612240154646684\",\"value\":{}},\"image\":{\"sync\":true,\"id\":\"472288223383892955\",\"value\":\"\"},\"__get_gd_contents\":{\"sync\":false,\"id\":\"8834919837722651060\",\"value\":\"\"},\"_downloadImage\":{\"sync\":false,\"id\":\"2759430769962235109\",\"value\":{}},\"relayout\":{\"sync\":false,\"id\":\"8746377544981058626\",\"value\":{}},\"_commands\":{\"sync\":false,\"id\":\"14326744588661783098\",\"value\":[]}}},\"children\":[{\"props\":{\"id\":\"plot-b51ba628-3e79-40ee-adcf-304e0e55182d\"},\"nodeType\":\"DOM\",\"type\":\"node\",\"instanceArgs\":{\"namespace\":\"html\",\"tag\":\"div\"},\"children\":[]}]},\n",
       "        window,\n",
       "    );\n",
       "    })()\n",
       "    </script>\n",
       "</div>\n"
      ],
      "text/plain": [
       "data: [\n",
       "  \"bar with fields exttemplate, orientation, textposition, type, x, and y\"\n",
       "]\n",
       "\n",
       "layout: \"layout with fields font, height, margin, template, title, width, xaxis, and yaxis\"\n",
       "\n"
      ]
     },
     "execution_count": 56,
     "metadata": {},
     "output_type": "execute_result"
    }
   ],
   "source": [
    "trace = bar(sort(freq_words[1:20, :], :value), y = :variable, x = :value, orientation = \"h\", exttemplate=\"%{text:.2f}\", textposition=\"outside\",)\n",
    "\n",
    "config = PlotConfig(\n",
    "    toImageButtonOptions=attr(\n",
    "        format=\"png\", # one of png, svg, jpeg, webp\n",
    "        filename=\"custom_image\",\n",
    "        height=1280,\n",
    "        width=720,\n",
    "        scale=2 # Multiply title/legend/axis/canvas sizes by this factor\n",
    "    ).fields,\n",
    ")\n",
    "\n",
    "layout = Layout(\n",
    "    xaxis_title = \"Count\",\n",
    "    yaxis_title = \"Word\",\n",
    "    title = \"Word Frequency\",\n",
    "    font_family = \"Arial\",\n",
    "    width = 1280, height = 720\n",
    ")\n",
    "plot(trace, layout, config=config)"
   ]
  },
  {
   "cell_type": "code",
   "execution_count": null,
   "id": "01c60cdc-7841-4fb8-9521-8c9c54e58212",
   "metadata": {},
   "outputs": [],
   "source": []
  },
  {
   "cell_type": "markdown",
   "id": "1f60031c-6bce-41f1-bbe2-701c4e9fa88c",
   "metadata": {},
   "source": [
    "### Inverse Document Frequemncy"
   ]
  },
  {
   "cell_type": "code",
   "execution_count": 26,
   "id": "5495af65-5c62-46e4-bc44-dd038c153a8b",
   "metadata": {},
   "outputs": [],
   "source": [
    "update_lexicon!(crps)"
   ]
  },
  {
   "cell_type": "code",
   "execution_count": 27,
   "id": "3c6db4cb-8b9f-447b-a575-d83c367ef670",
   "metadata": {},
   "outputs": [
    {
     "data": {
      "text/plain": [
       "A 1999 X 5353 DocumentTermMatrix"
      ]
     },
     "execution_count": 27,
     "metadata": {},
     "output_type": "execute_result"
    }
   ],
   "source": [
    "m = DocumentTermMatrix(crps)"
   ]
  },
  {
   "cell_type": "code",
   "execution_count": 52,
   "id": "7c1097bd-406d-499c-baca-0b411fe513fb",
   "metadata": {},
   "outputs": [
    {
     "data": {
      "text/plain": [
       "1999×5353 Matrix{Int64}:\n",
       " 0  0  0  0  0  0  0  0  0  0  0  0  0  …  0  0  0  0  0  0  0  0  0  0  0  0\n",
       " 0  0  0  0  0  0  0  0  0  0  0  0  0     0  0  0  0  0  0  0  0  0  0  0  0\n",
       " 0  0  0  0  0  0  0  0  0  0  0  0  0     0  0  0  0  0  0  0  0  0  0  0  0\n",
       " 0  0  0  0  0  0  0  0  0  0  0  0  0     0  0  0  0  0  0  0  0  0  0  0  0\n",
       " 0  0  0  0  0  0  0  0  0  0  0  0  0     0  0  0  0  0  0  0  0  0  0  0  0\n",
       " 0  0  0  0  0  0  0  0  0  0  0  0  0  …  0  0  0  0  0  0  0  0  0  0  0  0\n",
       " 0  0  0  0  0  0  0  0  0  0  0  0  0     0  0  0  0  0  0  0  0  0  0  0  0\n",
       " 0  0  0  0  0  0  0  0  0  0  0  0  0     0  0  0  0  0  0  0  0  0  0  0  0\n",
       " 0  0  0  0  0  0  0  0  0  0  0  0  0     0  0  0  0  0  0  0  0  0  0  0  0\n",
       " 0  0  0  0  0  0  0  0  0  0  0  1  0     0  0  0  0  0  0  0  0  0  0  0  0\n",
       " 0  0  0  0  0  0  0  0  0  0  0  0  0  …  0  0  0  0  0  0  0  0  0  0  0  0\n",
       " 0  0  0  0  0  0  0  0  0  0  0  0  0     0  0  0  0  0  0  0  0  0  0  0  0\n",
       " 0  0  0  0  0  0  0  0  0  0  0  0  0     0  0  0  0  0  0  0  0  0  0  0  0\n",
       " ⋮              ⋮              ⋮        ⋱              ⋮              ⋮     \n",
       " 0  0  0  0  0  0  0  0  0  0  0  0  0     0  0  0  0  0  0  0  0  0  0  0  0\n",
       " 0  0  0  0  0  0  0  0  0  0  0  0  0     0  0  0  0  0  0  0  0  0  0  0  0\n",
       " 0  0  0  0  0  0  0  0  0  0  0  0  0     0  0  0  0  0  0  0  0  0  0  0  0\n",
       " 0  0  0  0  0  0  0  0  0  0  0  0  0  …  0  0  0  0  0  0  0  0  0  0  0  0\n",
       " 0  0  0  0  0  0  0  0  0  0  0  0  0     0  0  0  0  0  0  0  0  0  0  0  0\n",
       " 0  0  0  0  0  0  0  0  0  0  0  0  0     0  0  0  0  0  0  0  0  0  0  0  0\n",
       " 0  0  0  0  0  0  0  0  0  0  0  0  0     0  0  0  0  0  0  0  0  0  0  0  0\n",
       " 0  0  0  0  0  0  0  0  0  0  0  0  0     0  0  0  0  0  0  0  0  0  0  0  0\n",
       " 0  0  0  0  0  0  0  0  0  0  0  0  0  …  0  0  0  0  0  0  0  0  0  0  0  0\n",
       " 0  0  0  0  0  0  0  0  0  0  0  0  0     0  0  0  0  0  0  0  0  0  0  0  0\n",
       " 0  0  0  0  0  0  0  0  0  0  0  0  0     0  0  0  0  0  0  0  0  0  0  0  0\n",
       " 0  0  0  0  0  0  0  0  0  0  0  0  0     0  0  0  0  0  0  0  0  0  0  0  0"
      ]
     },
     "execution_count": 52,
     "metadata": {},
     "output_type": "execute_result"
    }
   ],
   "source": [
    "matrix_ = dtm(m, :dense)"
   ]
  },
  {
   "cell_type": "code",
   "execution_count": 53,
   "id": "ca18e79a-337f-4c2a-8faa-11a2ff8699cc",
   "metadata": {},
   "outputs": [
    {
     "data": {
      "text/plain": [
       "1999×5353 Matrix{Float64}:\n",
       " 0.0  0.0  0.0  0.0  0.0  0.0  0.0  0.0  …  0.0  0.0  0.0  0.0  0.0  0.0  0.0\n",
       " 0.0  0.0  0.0  0.0  0.0  0.0  0.0  0.0     0.0  0.0  0.0  0.0  0.0  0.0  0.0\n",
       " 0.0  0.0  0.0  0.0  0.0  0.0  0.0  0.0     0.0  0.0  0.0  0.0  0.0  0.0  0.0\n",
       " 0.0  0.0  0.0  0.0  0.0  0.0  0.0  0.0     0.0  0.0  0.0  0.0  0.0  0.0  0.0\n",
       " 0.0  0.0  0.0  0.0  0.0  0.0  0.0  0.0     0.0  0.0  0.0  0.0  0.0  0.0  0.0\n",
       " 0.0  0.0  0.0  0.0  0.0  0.0  0.0  0.0  …  0.0  0.0  0.0  0.0  0.0  0.0  0.0\n",
       " 0.0  0.0  0.0  0.0  0.0  0.0  0.0  0.0     0.0  0.0  0.0  0.0  0.0  0.0  0.0\n",
       " 0.0  0.0  0.0  0.0  0.0  0.0  0.0  0.0     0.0  0.0  0.0  0.0  0.0  0.0  0.0\n",
       " 0.0  0.0  0.0  0.0  0.0  0.0  0.0  0.0     0.0  0.0  0.0  0.0  0.0  0.0  0.0\n",
       " 0.0  0.0  0.0  0.0  0.0  0.0  0.0  0.0     0.0  0.0  0.0  0.0  0.0  0.0  0.0\n",
       " 0.0  0.0  0.0  0.0  0.0  0.0  0.0  0.0  …  0.0  0.0  0.0  0.0  0.0  0.0  0.0\n",
       " 0.0  0.0  0.0  0.0  0.0  0.0  0.0  0.0     0.0  0.0  0.0  0.0  0.0  0.0  0.0\n",
       " 0.0  0.0  0.0  0.0  0.0  0.0  0.0  0.0     0.0  0.0  0.0  0.0  0.0  0.0  0.0\n",
       " ⋮                        ⋮              ⋱                      ⋮         \n",
       " 0.0  0.0  0.0  0.0  0.0  0.0  0.0  0.0     0.0  0.0  0.0  0.0  0.0  0.0  0.0\n",
       " 0.0  0.0  0.0  0.0  0.0  0.0  0.0  0.0     0.0  0.0  0.0  0.0  0.0  0.0  0.0\n",
       " 0.0  0.0  0.0  0.0  0.0  0.0  0.0  0.0     0.0  0.0  0.0  0.0  0.0  0.0  0.0\n",
       " 0.0  0.0  0.0  0.0  0.0  0.0  0.0  0.0  …  0.0  0.0  0.0  0.0  0.0  0.0  0.0\n",
       " 0.0  0.0  0.0  0.0  0.0  0.0  0.0  0.0     0.0  0.0  0.0  0.0  0.0  0.0  0.0\n",
       " 0.0  0.0  0.0  0.0  0.0  0.0  0.0  0.0     0.0  0.0  0.0  0.0  0.0  0.0  0.0\n",
       " 0.0  0.0  0.0  0.0  0.0  0.0  0.0  0.0     0.0  0.0  0.0  0.0  0.0  0.0  0.0\n",
       " 0.0  0.0  0.0  0.0  0.0  0.0  0.0  0.0     0.0  0.0  0.0  0.0  0.0  0.0  0.0\n",
       " 0.0  0.0  0.0  0.0  0.0  0.0  0.0  0.0  …  0.0  0.0  0.0  0.0  0.0  0.0  0.0\n",
       " 0.0  0.0  0.0  0.0  0.0  0.0  0.0  0.0     0.0  0.0  0.0  0.0  0.0  0.0  0.0\n",
       " 0.0  0.0  0.0  0.0  0.0  0.0  0.0  0.0     0.0  0.0  0.0  0.0  0.0  0.0  0.0\n",
       " 0.0  0.0  0.0  0.0  0.0  0.0  0.0  0.0     0.0  0.0  0.0  0.0  0.0  0.0  0.0"
      ]
     },
     "execution_count": 53,
     "metadata": {},
     "output_type": "execute_result"
    }
   ],
   "source": [
    "tf_idf(matrix_)"
   ]
  },
  {
   "cell_type": "markdown",
   "id": "8d838f5e-828a-4dc1-8502-7d08a8486f89",
   "metadata": {},
   "source": [
    "### Term Frequency"
   ]
  },
  {
   "cell_type": "code",
   "execution_count": 50,
   "id": "34873f3e-2ba7-4371-ac90-0108942d0a7c",
   "metadata": {},
   "outputs": [
    {
     "data": {
      "text/plain": [
       "1999×5353 SparseArrays.SparseMatrixCSC{Float64, Int64} with 69142 stored entries:\n",
       "⣿⣿⣿⣿⣿⣿⣿⣿⣿⣿⣿⣿⣿⣿⣿⣿⣿⣿⣿⣿⣿⣿⣿⣿⣿⣿⣿⣿⣿⣿⣿⣿⣿⣿⣿⣿⣿⣿⣿⣿\n",
       "⣿⣿⣿⣿⣿⣿⣿⣿⣿⣿⣿⣿⣿⣿⣿⣿⣿⣿⣿⣿⣿⣿⣿⣿⣿⣿⣿⣿⣿⣿⣿⣿⣿⣿⣿⣿⣿⣿⣿⣿\n",
       "⣿⣿⣿⣿⣿⣿⣿⣿⣿⣿⣿⣿⣿⣿⣿⣿⣿⣿⣿⣿⣿⣿⣿⣿⣿⣿⣿⣿⣿⣿⣿⣿⣿⣿⣿⣿⣿⣿⣿⣿\n",
       "⣿⣿⣿⣿⣿⣿⣿⣿⣿⣿⣿⣿⣿⣿⣿⣿⣿⣿⣿⣿⣿⣿⣿⣿⣿⣿⣿⣿⣿⣿⣿⣿⣿⣿⣿⣿⣿⣿⣿⣿\n",
       "⣿⣿⣿⣿⣿⣿⣿⣿⣿⣿⣿⣿⣿⣿⣿⣿⣿⣿⣿⣿⣿⣿⣿⣿⣿⣿⣿⣿⣿⣿⣿⣿⣿⣿⣿⣿⣿⣿⣿⣿\n",
       "⣿⣿⣿⣿⣿⣿⣿⣿⣿⣿⣿⣿⣿⣿⣿⣿⣿⣿⣿⣿⣿⣿⣿⣿⣿⣿⣿⣿⣿⣿⣿⣿⣿⣿⣿⣿⣿⣿⣿⣿\n",
       "⣿⣿⣿⣿⣿⣿⣿⣿⣿⣿⣿⣿⣿⣿⣿⣿⣿⣿⣿⣿⣿⣿⣿⣿⣿⣿⣿⣿⣿⣿⣿⣿⣿⣿⣿⣿⣿⣿⣿⣿\n",
       "⠉⠉⠉⠉⠉⠉⠉⠉⠉⠉⠉⠉⠉⠉⠉⠉⠉⠉⠁⠉⠉⠉⠉⠉⠉⠉⠉⠉⠉⠉⠉⠉⠉⠉⠉⠉⠉⠉⠉⠁"
      ]
     },
     "execution_count": 50,
     "metadata": {},
     "output_type": "execute_result"
    }
   ],
   "source": [
    "tf(m)"
   ]
  },
  {
   "cell_type": "markdown",
   "id": "9c4660a5-f278-488c-b389-9d3cca94cbd8",
   "metadata": {},
   "source": [
    "### OKAPI BM-25"
   ]
  },
  {
   "cell_type": "code",
   "execution_count": 48,
   "id": "dfe02ae1-575d-44d1-ac0c-4e4b5aa327e8",
   "metadata": {},
   "outputs": [
    {
     "data": {
      "text/plain": [
       "1999×5353 SparseArrays.SparseMatrixCSC{Float64, Int64} with 69142 stored entries:\n",
       "⣿⣿⣿⣿⣿⣿⣿⣿⣿⣿⣿⣿⣿⣿⣿⣿⣿⣿⣿⣿⣿⣿⣿⣿⣿⣿⣿⣿⣿⣿⣿⣿⣿⣿⣿⣿⣿⣿⣿⣿\n",
       "⣿⣿⣿⣿⣿⣿⣿⣿⣿⣿⣿⣿⣿⣿⣿⣿⣿⣿⣿⣿⣿⣿⣿⣿⣿⣿⣿⣿⣿⣿⣿⣿⣿⣿⣿⣿⣿⣿⣿⣿\n",
       "⣿⣿⣿⣿⣿⣿⣿⣿⣿⣿⣿⣿⣿⣿⣿⣿⣿⣿⣿⣿⣿⣿⣿⣿⣿⣿⣿⣿⣿⣿⣿⣿⣿⣿⣿⣿⣿⣿⣿⣿\n",
       "⣿⣿⣿⣿⣿⣿⣿⣿⣿⣿⣿⣿⣿⣿⣿⣿⣿⣿⣿⣿⣿⣿⣿⣿⣿⣿⣿⣿⣿⣿⣿⣿⣿⣿⣿⣿⣿⣿⣿⣿\n",
       "⣿⣿⣿⣿⣿⣿⣿⣿⣿⣿⣿⣿⣿⣿⣿⣿⣿⣿⣿⣿⣿⣿⣿⣿⣿⣿⣿⣿⣿⣿⣿⣿⣿⣿⣿⣿⣿⣿⣿⣿\n",
       "⣿⣿⣿⣿⣿⣿⣿⣿⣿⣿⣿⣿⣿⣿⣿⣿⣿⣿⣿⣿⣿⣿⣿⣿⣿⣿⣿⣿⣿⣿⣿⣿⣿⣿⣿⣿⣿⣿⣿⣿\n",
       "⣿⣿⣿⣿⣿⣿⣿⣿⣿⣿⣿⣿⣿⣿⣿⣿⣿⣿⣿⣿⣿⣿⣿⣿⣿⣿⣿⣿⣿⣿⣿⣿⣿⣿⣿⣿⣿⣿⣿⣿\n",
       "⠉⠉⠉⠉⠉⠉⠉⠉⠉⠉⠉⠉⠉⠉⠉⠉⠉⠉⠁⠉⠉⠉⠉⠉⠉⠉⠉⠉⠉⠉⠉⠉⠉⠉⠉⠉⠉⠉⠉⠁"
      ]
     },
     "execution_count": 48,
     "metadata": {},
     "output_type": "execute_result"
    }
   ],
   "source": [
    "bm_25(m)"
   ]
  },
  {
   "cell_type": "code",
   "execution_count": null,
   "id": "39849dc1-f993-4dbe-9a52-9432fc673389",
   "metadata": {},
   "outputs": [],
   "source": []
  }
 ],
 "metadata": {
  "@webio": {
   "lastCommId": "102b688f5a2b40f18dfb7c31d5ab2933",
   "lastKernelId": "c2155178-1f78-465b-8515-b96ccc9ae926"
  },
  "kernelspec": {
   "display_name": "Julia 1.6.3",
   "language": "julia",
   "name": "julia-1.6"
  },
  "language_info": {
   "file_extension": ".jl",
   "mimetype": "application/julia",
   "name": "julia",
   "version": "1.6.3"
  }
 },
 "nbformat": 4,
 "nbformat_minor": 5
}
